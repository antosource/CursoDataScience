{
 "cells": [
  {
   "cell_type": "code",
   "execution_count": 13,
   "metadata": {},
   "outputs": [],
   "source": [
    "%matplotlib inline\n",
    "\n",
    "import pandas as pd\n",
    "import numpy as np\n",
    "import seaborn as sns\n",
    "import matplotlib.pyplot as plt\n",
    "\n",
    "import statsmodels.formula as sm\n",
    "import statsmodels.formula.api as smf\n",
    "\n",
    "from calidad_datos2 import calidad_datos\n",
    "\n",
    "import os\n",
    "import warnings\n",
    "warnings.filterwarnings('ignore')\n",
    "\n",
    "plt.style.use('seaborn') # Gráficos estilo seaborn\n",
    "plt.rcParams[\"figure.figsize\"] = (5, 3) # Tamaño gráficos\n",
    "plt.rcParams[\"figure.dpi\"] = 100 # resolución gráficos"
   ]
  },
  {
   "cell_type": "markdown",
   "metadata": {},
   "source": [
    "# Desafío 1: Preparar el ambiente de trabajo\n",
    "- lista con los nombres de variables importadas\n",
    "- un análisis descriptivo mediante <code>.describe()</code>\n",
    "- Distribución de categorías para las variables <code>famhist y chd</code>"
   ]
  },
  {
   "cell_type": "code",
   "execution_count": 14,
   "metadata": {},
   "outputs": [
    {
     "name": "stdout",
     "output_type": "stream",
     "text": [
      "(462, 10)\n"
     ]
    },
    {
     "data": {
      "text/html": [
       "<div>\n",
       "<style scoped>\n",
       "    .dataframe tbody tr th:only-of-type {\n",
       "        vertical-align: middle;\n",
       "    }\n",
       "\n",
       "    .dataframe tbody tr th {\n",
       "        vertical-align: top;\n",
       "    }\n",
       "\n",
       "    .dataframe thead th {\n",
       "        text-align: right;\n",
       "    }\n",
       "</style>\n",
       "<table border=\"1\" class=\"dataframe\">\n",
       "  <thead>\n",
       "    <tr style=\"text-align: right;\">\n",
       "      <th></th>\n",
       "      <th>sbp</th>\n",
       "      <th>tobacco</th>\n",
       "      <th>ldl</th>\n",
       "      <th>adiposity</th>\n",
       "      <th>famhist</th>\n",
       "      <th>typea</th>\n",
       "      <th>obesity</th>\n",
       "      <th>alcohol</th>\n",
       "      <th>age</th>\n",
       "      <th>chd</th>\n",
       "    </tr>\n",
       "  </thead>\n",
       "  <tbody>\n",
       "    <tr>\n",
       "      <th>1</th>\n",
       "      <td>160</td>\n",
       "      <td>12.00</td>\n",
       "      <td>5.73</td>\n",
       "      <td>23.11</td>\n",
       "      <td>Present</td>\n",
       "      <td>49</td>\n",
       "      <td>25.30</td>\n",
       "      <td>97.20</td>\n",
       "      <td>52</td>\n",
       "      <td>1</td>\n",
       "    </tr>\n",
       "    <tr>\n",
       "      <th>2</th>\n",
       "      <td>144</td>\n",
       "      <td>0.01</td>\n",
       "      <td>4.41</td>\n",
       "      <td>28.61</td>\n",
       "      <td>Absent</td>\n",
       "      <td>55</td>\n",
       "      <td>28.87</td>\n",
       "      <td>2.06</td>\n",
       "      <td>63</td>\n",
       "      <td>1</td>\n",
       "    </tr>\n",
       "    <tr>\n",
       "      <th>3</th>\n",
       "      <td>118</td>\n",
       "      <td>0.08</td>\n",
       "      <td>3.48</td>\n",
       "      <td>32.28</td>\n",
       "      <td>Present</td>\n",
       "      <td>52</td>\n",
       "      <td>29.14</td>\n",
       "      <td>3.81</td>\n",
       "      <td>46</td>\n",
       "      <td>0</td>\n",
       "    </tr>\n",
       "    <tr>\n",
       "      <th>4</th>\n",
       "      <td>170</td>\n",
       "      <td>7.50</td>\n",
       "      <td>6.41</td>\n",
       "      <td>38.03</td>\n",
       "      <td>Present</td>\n",
       "      <td>51</td>\n",
       "      <td>31.99</td>\n",
       "      <td>24.26</td>\n",
       "      <td>58</td>\n",
       "      <td>1</td>\n",
       "    </tr>\n",
       "    <tr>\n",
       "      <th>5</th>\n",
       "      <td>134</td>\n",
       "      <td>13.60</td>\n",
       "      <td>3.50</td>\n",
       "      <td>27.78</td>\n",
       "      <td>Present</td>\n",
       "      <td>60</td>\n",
       "      <td>25.99</td>\n",
       "      <td>57.34</td>\n",
       "      <td>49</td>\n",
       "      <td>1</td>\n",
       "    </tr>\n",
       "  </tbody>\n",
       "</table>\n",
       "</div>"
      ],
      "text/plain": [
       "   sbp  tobacco   ldl  adiposity  famhist  typea  obesity  alcohol  age  chd\n",
       "1  160    12.00  5.73      23.11  Present     49    25.30    97.20   52    1\n",
       "2  144     0.01  4.41      28.61   Absent     55    28.87     2.06   63    1\n",
       "3  118     0.08  3.48      32.28  Present     52    29.14     3.81   46    0\n",
       "4  170     7.50  6.41      38.03  Present     51    31.99    24.26   58    1\n",
       "5  134    13.60  3.50      27.78  Present     60    25.99    57.34   49    1"
      ]
     },
     "execution_count": 14,
     "metadata": {},
     "output_type": "execute_result"
    }
   ],
   "source": [
    "df = pd.read_csv('southafricanheart.csv', index_col=0)\n",
    "print(df.shape)\n",
    "df.head()"
   ]
  },
  {
   "cell_type": "code",
   "execution_count": 15,
   "metadata": {},
   "outputs": [
    {
     "data": {
      "text/plain": [
       "Index(['sbp', 'tobacco', 'ldl', 'adiposity', 'famhist', 'typea', 'obesity',\n",
       "       'alcohol', 'age', 'chd'],\n",
       "      dtype='object')"
      ]
     },
     "execution_count": 15,
     "metadata": {},
     "output_type": "execute_result"
    }
   ],
   "source": [
    "# Lista con nombres de variables importadas\n",
    "df.columns"
   ]
  },
  {
   "cell_type": "code",
   "execution_count": 16,
   "metadata": {},
   "outputs": [
    {
     "data": {
      "text/html": [
       "<div>\n",
       "<style scoped>\n",
       "    .dataframe tbody tr th:only-of-type {\n",
       "        vertical-align: middle;\n",
       "    }\n",
       "\n",
       "    .dataframe tbody tr th {\n",
       "        vertical-align: top;\n",
       "    }\n",
       "\n",
       "    .dataframe thead th {\n",
       "        text-align: right;\n",
       "    }\n",
       "</style>\n",
       "<table border=\"1\" class=\"dataframe\">\n",
       "  <thead>\n",
       "    <tr style=\"text-align: right;\">\n",
       "      <th></th>\n",
       "      <th>tipo</th>\n",
       "      <th>nulos</th>\n",
       "      <th>porc_nulos</th>\n",
       "      <th>ceros</th>\n",
       "      <th>porc_ceros</th>\n",
       "      <th>count</th>\n",
       "      <th>unique</th>\n",
       "      <th>top</th>\n",
       "      <th>freq</th>\n",
       "      <th>mean</th>\n",
       "      <th>std</th>\n",
       "      <th>min</th>\n",
       "      <th>25%</th>\n",
       "      <th>50%</th>\n",
       "      <th>75%</th>\n",
       "      <th>max</th>\n",
       "      <th>dist_IQR</th>\n",
       "      <th>limit_inf</th>\n",
       "      <th>limit_sup</th>\n",
       "      <th>outliers</th>\n",
       "    </tr>\n",
       "  </thead>\n",
       "  <tbody>\n",
       "    <tr>\n",
       "      <th>sbp</th>\n",
       "      <td>int64</td>\n",
       "      <td>0</td>\n",
       "      <td>0.0</td>\n",
       "      <td>0</td>\n",
       "      <td>0.000000</td>\n",
       "      <td>462.0</td>\n",
       "      <td>NaN</td>\n",
       "      <td>NaN</td>\n",
       "      <td>NaN</td>\n",
       "      <td>138.32684</td>\n",
       "      <td>20.496317</td>\n",
       "      <td>101.0</td>\n",
       "      <td>124.0</td>\n",
       "      <td>134.0</td>\n",
       "      <td>148.0</td>\n",
       "      <td>218.0</td>\n",
       "      <td>24.0</td>\n",
       "      <td>88.0</td>\n",
       "      <td>184.0</td>\n",
       "      <td>15</td>\n",
       "    </tr>\n",
       "    <tr>\n",
       "      <th>typea</th>\n",
       "      <td>int64</td>\n",
       "      <td>0</td>\n",
       "      <td>0.0</td>\n",
       "      <td>0</td>\n",
       "      <td>0.000000</td>\n",
       "      <td>462.0</td>\n",
       "      <td>NaN</td>\n",
       "      <td>NaN</td>\n",
       "      <td>NaN</td>\n",
       "      <td>53.103896</td>\n",
       "      <td>9.817534</td>\n",
       "      <td>13.0</td>\n",
       "      <td>47.0</td>\n",
       "      <td>53.0</td>\n",
       "      <td>60.0</td>\n",
       "      <td>78.0</td>\n",
       "      <td>13.0</td>\n",
       "      <td>27.5</td>\n",
       "      <td>79.5</td>\n",
       "      <td>4</td>\n",
       "    </tr>\n",
       "    <tr>\n",
       "      <th>age</th>\n",
       "      <td>int64</td>\n",
       "      <td>0</td>\n",
       "      <td>0.0</td>\n",
       "      <td>0</td>\n",
       "      <td>0.000000</td>\n",
       "      <td>462.0</td>\n",
       "      <td>NaN</td>\n",
       "      <td>NaN</td>\n",
       "      <td>NaN</td>\n",
       "      <td>42.816017</td>\n",
       "      <td>14.608956</td>\n",
       "      <td>15.0</td>\n",
       "      <td>31.0</td>\n",
       "      <td>45.0</td>\n",
       "      <td>55.0</td>\n",
       "      <td>64.0</td>\n",
       "      <td>24.0</td>\n",
       "      <td>-5.0</td>\n",
       "      <td>91.0</td>\n",
       "      <td>0</td>\n",
       "    </tr>\n",
       "    <tr>\n",
       "      <th>chd</th>\n",
       "      <td>int64</td>\n",
       "      <td>0</td>\n",
       "      <td>0.0</td>\n",
       "      <td>302</td>\n",
       "      <td>0.653680</td>\n",
       "      <td>462.0</td>\n",
       "      <td>NaN</td>\n",
       "      <td>NaN</td>\n",
       "      <td>NaN</td>\n",
       "      <td>0.34632</td>\n",
       "      <td>0.476313</td>\n",
       "      <td>0.0</td>\n",
       "      <td>0.0</td>\n",
       "      <td>0.0</td>\n",
       "      <td>1.0</td>\n",
       "      <td>1.0</td>\n",
       "      <td>1.0</td>\n",
       "      <td>-1.5</td>\n",
       "      <td>2.5</td>\n",
       "      <td>0</td>\n",
       "    </tr>\n",
       "    <tr>\n",
       "      <th>tobacco</th>\n",
       "      <td>float64</td>\n",
       "      <td>0</td>\n",
       "      <td>0.0</td>\n",
       "      <td>107</td>\n",
       "      <td>0.231602</td>\n",
       "      <td>462.0</td>\n",
       "      <td>NaN</td>\n",
       "      <td>NaN</td>\n",
       "      <td>NaN</td>\n",
       "      <td>3.635649</td>\n",
       "      <td>4.593024</td>\n",
       "      <td>0.0</td>\n",
       "      <td>0.0525</td>\n",
       "      <td>2.0</td>\n",
       "      <td>5.5</td>\n",
       "      <td>31.2</td>\n",
       "      <td>5.4475</td>\n",
       "      <td>-8.11875</td>\n",
       "      <td>13.67125</td>\n",
       "      <td>19</td>\n",
       "    </tr>\n",
       "    <tr>\n",
       "      <th>ldl</th>\n",
       "      <td>float64</td>\n",
       "      <td>0</td>\n",
       "      <td>0.0</td>\n",
       "      <td>0</td>\n",
       "      <td>0.000000</td>\n",
       "      <td>462.0</td>\n",
       "      <td>NaN</td>\n",
       "      <td>NaN</td>\n",
       "      <td>NaN</td>\n",
       "      <td>4.740325</td>\n",
       "      <td>2.070909</td>\n",
       "      <td>0.98</td>\n",
       "      <td>3.2825</td>\n",
       "      <td>4.34</td>\n",
       "      <td>5.79</td>\n",
       "      <td>15.33</td>\n",
       "      <td>2.5075</td>\n",
       "      <td>-0.47875</td>\n",
       "      <td>9.55125</td>\n",
       "      <td>14</td>\n",
       "    </tr>\n",
       "    <tr>\n",
       "      <th>adiposity</th>\n",
       "      <td>float64</td>\n",
       "      <td>0</td>\n",
       "      <td>0.0</td>\n",
       "      <td>0</td>\n",
       "      <td>0.000000</td>\n",
       "      <td>462.0</td>\n",
       "      <td>NaN</td>\n",
       "      <td>NaN</td>\n",
       "      <td>NaN</td>\n",
       "      <td>25.406732</td>\n",
       "      <td>7.780699</td>\n",
       "      <td>6.74</td>\n",
       "      <td>19.775</td>\n",
       "      <td>26.115</td>\n",
       "      <td>31.2275</td>\n",
       "      <td>42.49</td>\n",
       "      <td>11.4525</td>\n",
       "      <td>2.59625</td>\n",
       "      <td>48.40625</td>\n",
       "      <td>0</td>\n",
       "    </tr>\n",
       "    <tr>\n",
       "      <th>obesity</th>\n",
       "      <td>float64</td>\n",
       "      <td>0</td>\n",
       "      <td>0.0</td>\n",
       "      <td>0</td>\n",
       "      <td>0.000000</td>\n",
       "      <td>462.0</td>\n",
       "      <td>NaN</td>\n",
       "      <td>NaN</td>\n",
       "      <td>NaN</td>\n",
       "      <td>26.044113</td>\n",
       "      <td>4.21368</td>\n",
       "      <td>14.7</td>\n",
       "      <td>22.985</td>\n",
       "      <td>25.805</td>\n",
       "      <td>28.4975</td>\n",
       "      <td>46.58</td>\n",
       "      <td>5.5125</td>\n",
       "      <td>14.71625</td>\n",
       "      <td>36.76625</td>\n",
       "      <td>9</td>\n",
       "    </tr>\n",
       "    <tr>\n",
       "      <th>alcohol</th>\n",
       "      <td>float64</td>\n",
       "      <td>0</td>\n",
       "      <td>0.0</td>\n",
       "      <td>110</td>\n",
       "      <td>0.238095</td>\n",
       "      <td>462.0</td>\n",
       "      <td>NaN</td>\n",
       "      <td>NaN</td>\n",
       "      <td>NaN</td>\n",
       "      <td>17.044394</td>\n",
       "      <td>24.481059</td>\n",
       "      <td>0.0</td>\n",
       "      <td>0.51</td>\n",
       "      <td>7.51</td>\n",
       "      <td>23.8925</td>\n",
       "      <td>147.19</td>\n",
       "      <td>23.3825</td>\n",
       "      <td>-34.56375</td>\n",
       "      <td>58.96625</td>\n",
       "      <td>33</td>\n",
       "    </tr>\n",
       "    <tr>\n",
       "      <th>famhist</th>\n",
       "      <td>object</td>\n",
       "      <td>0</td>\n",
       "      <td>0.0</td>\n",
       "      <td>0</td>\n",
       "      <td>0.000000</td>\n",
       "      <td>462</td>\n",
       "      <td>2</td>\n",
       "      <td>Absent</td>\n",
       "      <td>270</td>\n",
       "      <td>NaN</td>\n",
       "      <td>NaN</td>\n",
       "      <td>NaN</td>\n",
       "      <td>NaN</td>\n",
       "      <td>NaN</td>\n",
       "      <td>NaN</td>\n",
       "      <td>NaN</td>\n",
       "      <td>NaN</td>\n",
       "      <td>NaN</td>\n",
       "      <td>NaN</td>\n",
       "      <td>0</td>\n",
       "    </tr>\n",
       "  </tbody>\n",
       "</table>\n",
       "</div>"
      ],
      "text/plain": [
       "              tipo  nulos  porc_nulos  ceros  porc_ceros  count unique  \\\n",
       "sbp          int64      0         0.0      0    0.000000  462.0    NaN   \n",
       "typea        int64      0         0.0      0    0.000000  462.0    NaN   \n",
       "age          int64      0         0.0      0    0.000000  462.0    NaN   \n",
       "chd          int64      0         0.0    302    0.653680  462.0    NaN   \n",
       "tobacco    float64      0         0.0    107    0.231602  462.0    NaN   \n",
       "ldl        float64      0         0.0      0    0.000000  462.0    NaN   \n",
       "adiposity  float64      0         0.0      0    0.000000  462.0    NaN   \n",
       "obesity    float64      0         0.0      0    0.000000  462.0    NaN   \n",
       "alcohol    float64      0         0.0    110    0.238095  462.0    NaN   \n",
       "famhist     object      0         0.0      0    0.000000    462      2   \n",
       "\n",
       "              top freq       mean        std    min     25%     50%      75%  \\\n",
       "sbp           NaN  NaN  138.32684  20.496317  101.0   124.0   134.0    148.0   \n",
       "typea         NaN  NaN  53.103896   9.817534   13.0    47.0    53.0     60.0   \n",
       "age           NaN  NaN  42.816017  14.608956   15.0    31.0    45.0     55.0   \n",
       "chd           NaN  NaN    0.34632   0.476313    0.0     0.0     0.0      1.0   \n",
       "tobacco       NaN  NaN   3.635649   4.593024    0.0  0.0525     2.0      5.5   \n",
       "ldl           NaN  NaN   4.740325   2.070909   0.98  3.2825    4.34     5.79   \n",
       "adiposity     NaN  NaN  25.406732   7.780699   6.74  19.775  26.115  31.2275   \n",
       "obesity       NaN  NaN  26.044113    4.21368   14.7  22.985  25.805  28.4975   \n",
       "alcohol       NaN  NaN  17.044394  24.481059    0.0    0.51    7.51  23.8925   \n",
       "famhist    Absent  270        NaN        NaN    NaN     NaN     NaN      NaN   \n",
       "\n",
       "              max dist_IQR limit_inf limit_sup  outliers  \n",
       "sbp         218.0     24.0      88.0     184.0        15  \n",
       "typea        78.0     13.0      27.5      79.5         4  \n",
       "age          64.0     24.0      -5.0      91.0         0  \n",
       "chd           1.0      1.0      -1.5       2.5         0  \n",
       "tobacco      31.2   5.4475  -8.11875  13.67125        19  \n",
       "ldl         15.33   2.5075  -0.47875   9.55125        14  \n",
       "adiposity   42.49  11.4525   2.59625  48.40625         0  \n",
       "obesity     46.58   5.5125  14.71625  36.76625         9  \n",
       "alcohol    147.19  23.3825 -34.56375  58.96625        33  \n",
       "famhist       NaN      NaN       NaN       NaN         0  "
      ]
     },
     "execution_count": 16,
     "metadata": {},
     "output_type": "execute_result"
    }
   ],
   "source": [
    "#Revisar la calidad de datos del df\n",
    "calidad = calidad_datos(df)\n",
    "calidad"
   ]
  },
  {
   "cell_type": "code",
   "execution_count": 17,
   "metadata": {},
   "outputs": [
    {
     "data": {
      "text/html": [
       "<div>\n",
       "<style scoped>\n",
       "    .dataframe tbody tr th:only-of-type {\n",
       "        vertical-align: middle;\n",
       "    }\n",
       "\n",
       "    .dataframe tbody tr th {\n",
       "        vertical-align: top;\n",
       "    }\n",
       "\n",
       "    .dataframe thead th {\n",
       "        text-align: right;\n",
       "    }\n",
       "</style>\n",
       "<table border=\"1\" class=\"dataframe\">\n",
       "  <thead>\n",
       "    <tr style=\"text-align: right;\">\n",
       "      <th></th>\n",
       "      <th>sbp</th>\n",
       "      <th>tobacco</th>\n",
       "      <th>ldl</th>\n",
       "      <th>adiposity</th>\n",
       "      <th>typea</th>\n",
       "      <th>obesity</th>\n",
       "      <th>alcohol</th>\n",
       "      <th>age</th>\n",
       "      <th>chd</th>\n",
       "    </tr>\n",
       "  </thead>\n",
       "  <tbody>\n",
       "    <tr>\n",
       "      <th>count</th>\n",
       "      <td>462.00</td>\n",
       "      <td>462.00</td>\n",
       "      <td>462.00</td>\n",
       "      <td>462.00</td>\n",
       "      <td>462.00</td>\n",
       "      <td>462.00</td>\n",
       "      <td>462.00</td>\n",
       "      <td>462.00</td>\n",
       "      <td>462.00</td>\n",
       "    </tr>\n",
       "    <tr>\n",
       "      <th>mean</th>\n",
       "      <td>138.33</td>\n",
       "      <td>3.64</td>\n",
       "      <td>4.74</td>\n",
       "      <td>25.41</td>\n",
       "      <td>53.10</td>\n",
       "      <td>26.04</td>\n",
       "      <td>17.04</td>\n",
       "      <td>42.82</td>\n",
       "      <td>0.35</td>\n",
       "    </tr>\n",
       "    <tr>\n",
       "      <th>std</th>\n",
       "      <td>20.50</td>\n",
       "      <td>4.59</td>\n",
       "      <td>2.07</td>\n",
       "      <td>7.78</td>\n",
       "      <td>9.82</td>\n",
       "      <td>4.21</td>\n",
       "      <td>24.48</td>\n",
       "      <td>14.61</td>\n",
       "      <td>0.48</td>\n",
       "    </tr>\n",
       "    <tr>\n",
       "      <th>min</th>\n",
       "      <td>101.00</td>\n",
       "      <td>0.00</td>\n",
       "      <td>0.98</td>\n",
       "      <td>6.74</td>\n",
       "      <td>13.00</td>\n",
       "      <td>14.70</td>\n",
       "      <td>0.00</td>\n",
       "      <td>15.00</td>\n",
       "      <td>0.00</td>\n",
       "    </tr>\n",
       "    <tr>\n",
       "      <th>25%</th>\n",
       "      <td>124.00</td>\n",
       "      <td>0.05</td>\n",
       "      <td>3.28</td>\n",
       "      <td>19.77</td>\n",
       "      <td>47.00</td>\n",
       "      <td>22.98</td>\n",
       "      <td>0.51</td>\n",
       "      <td>31.00</td>\n",
       "      <td>0.00</td>\n",
       "    </tr>\n",
       "    <tr>\n",
       "      <th>50%</th>\n",
       "      <td>134.00</td>\n",
       "      <td>2.00</td>\n",
       "      <td>4.34</td>\n",
       "      <td>26.12</td>\n",
       "      <td>53.00</td>\n",
       "      <td>25.80</td>\n",
       "      <td>7.51</td>\n",
       "      <td>45.00</td>\n",
       "      <td>0.00</td>\n",
       "    </tr>\n",
       "    <tr>\n",
       "      <th>75%</th>\n",
       "      <td>148.00</td>\n",
       "      <td>5.50</td>\n",
       "      <td>5.79</td>\n",
       "      <td>31.23</td>\n",
       "      <td>60.00</td>\n",
       "      <td>28.50</td>\n",
       "      <td>23.89</td>\n",
       "      <td>55.00</td>\n",
       "      <td>1.00</td>\n",
       "    </tr>\n",
       "    <tr>\n",
       "      <th>max</th>\n",
       "      <td>218.00</td>\n",
       "      <td>31.20</td>\n",
       "      <td>15.33</td>\n",
       "      <td>42.49</td>\n",
       "      <td>78.00</td>\n",
       "      <td>46.58</td>\n",
       "      <td>147.19</td>\n",
       "      <td>64.00</td>\n",
       "      <td>1.00</td>\n",
       "    </tr>\n",
       "  </tbody>\n",
       "</table>\n",
       "</div>"
      ],
      "text/plain": [
       "          sbp  tobacco     ldl  adiposity   typea  obesity  alcohol     age  \\\n",
       "count  462.00   462.00  462.00     462.00  462.00   462.00   462.00  462.00   \n",
       "mean   138.33     3.64    4.74      25.41   53.10    26.04    17.04   42.82   \n",
       "std     20.50     4.59    2.07       7.78    9.82     4.21    24.48   14.61   \n",
       "min    101.00     0.00    0.98       6.74   13.00    14.70     0.00   15.00   \n",
       "25%    124.00     0.05    3.28      19.77   47.00    22.98     0.51   31.00   \n",
       "50%    134.00     2.00    4.34      26.12   53.00    25.80     7.51   45.00   \n",
       "75%    148.00     5.50    5.79      31.23   60.00    28.50    23.89   55.00   \n",
       "max    218.00    31.20   15.33      42.49   78.00    46.58   147.19   64.00   \n",
       "\n",
       "          chd  \n",
       "count  462.00  \n",
       "mean     0.35  \n",
       "std      0.48  \n",
       "min      0.00  \n",
       "25%      0.00  \n",
       "50%      0.00  \n",
       "75%      1.00  \n",
       "max      1.00  "
      ]
     },
     "execution_count": 17,
     "metadata": {},
     "output_type": "execute_result"
    }
   ],
   "source": [
    "#Se realiza el analisis descriptivo, redondeado a 2 decimales\n",
    "df.describe().round(2)"
   ]
  },
  {
   "cell_type": "code",
   "execution_count": 18,
   "metadata": {},
   "outputs": [
    {
     "data": {
      "text/plain": [
       "Absent     270\n",
       "Present    192\n",
       "Name: famhist, dtype: int64"
      ]
     },
     "execution_count": 18,
     "metadata": {},
     "output_type": "execute_result"
    }
   ],
   "source": [
    "# Distribucion de categorias (forma1)\n",
    "df['famhist'].value_counts()"
   ]
  },
  {
   "cell_type": "code",
   "execution_count": 19,
   "metadata": {},
   "outputs": [
    {
     "data": {
      "text/plain": [
       "0    302\n",
       "1    160\n",
       "Name: chd, dtype: int64"
      ]
     },
     "execution_count": 19,
     "metadata": {},
     "output_type": "execute_result"
    }
   ],
   "source": [
    "df['chd'].value_counts()"
   ]
  },
  {
   "cell_type": "code",
   "execution_count": 20,
   "metadata": {},
   "outputs": [
    {
     "data": {
      "text/plain": [
       "<AxesSubplot:xlabel='famhist', ylabel='count'>"
      ]
     },
     "execution_count": 20,
     "metadata": {},
     "output_type": "execute_result"
    },
    {
     "data": {
      "image/png": "[encoded data removed]",
      "text/plain": [
       "<Figure size 500x300 with 1 Axes>"
      ]
     },
     "metadata": {},
     "output_type": "display_data"
    }
   ],
   "source": [
    "# Distribucion de categorias (forma2)\n",
    "sns.countplot(df['famhist'])"
   ]
  },
  {
   "cell_type": "code",
   "execution_count": 21,
   "metadata": {},
   "outputs": [
    {
     "data": {
      "text/plain": [
       "<AxesSubplot:xlabel='chd', ylabel='count'>"
      ]
     },
     "execution_count": 21,
     "metadata": {},
     "output_type": "execute_result"
    },
    {
     "data": {
      "image/png": "[encoded data removed]",
      "text/plain": [
       "<Figure size 500x300 with 1 Axes>"
      ]
     },
     "metadata": {},
     "output_type": "display_data"
    }
   ],
   "source": [
    "sns.countplot(df['chd'])"
   ]
  },
  {
   "cell_type": "markdown",
   "metadata": {},
   "source": [
    "# Desafío 2: Estimar modelo\n",
    "\n",
    "1. Recodifique <code>famhist a una dummy</code>, asignando 1 a la categoría minoritaria.\n",
    "2. Utilice <code>smf.logit </code>para estimar el modelo.\n",
    "3. Implemente una función <code>inverse_logit</code> que realice el mapeo de <code>log-odds a probabilidad</code>.\n",
    "4. Con el modelo estimado, responda lo siguiente:\n",
    "    - ¿Cuál es la probabilidad de un individuo con antecedentes familiares de tener una enfermedad coronaria?\n",
    "    - ¿Cuál es la probabilidad de un individuo sin antecedentes familiares de tener una enfermedad coronaria?\n",
    "    - ¿Cuál es la diferencia en la probabilidad entre un individuo con antecedentes y otro sin antecedentes?\n",
    "    - Replique el modelo con <code>smf.ols</code> y comente las similitudes entre los coeficientes estimados."
   ]
  },
  {
   "cell_type": "code",
   "execution_count": 22,
   "metadata": {},
   "outputs": [],
   "source": [
    "df['famhist'] = df['famhist'].replace(['Absent', 'Present'], [0, 1])\n",
    "\n",
    "#Otras formas de realizarlo:\n",
    "\n",
    "#pd.get_dummies(df, columns=['famhist'], drop_first=True) \n",
    "#df['famhist'] = np.where(df['famhist']=='Present', 1, 0)\n",
    "#df.loc[df.famhist == 'Absent','famhist'] = 0\n",
    "#df.loc[df.famhist == 'Present','famhist'] = 1"
   ]
  },
  {
   "cell_type": "code",
   "execution_count": 23,
   "metadata": {},
   "outputs": [
    {
     "name": "stdout",
     "output_type": "stream",
     "text": [
      "Optimization terminated successfully.\n",
      "         Current function value: 0.608111\n",
      "         Iterations 5\n"
     ]
    },
    {
     "data": {
      "text/html": [
       "<table class=\"simpletable\">\n",
       "<caption>Logit Regression Results</caption>\n",
       "<tr>\n",
       "  <th>Dep. Variable:</th>          <td>chd</td>       <th>  No. Observations:  </th>  <td>   462</td>  \n",
       "</tr>\n",
       "<tr>\n",
       "  <th>Model:</th>                 <td>Logit</td>      <th>  Df Residuals:      </th>  <td>   460</td>  \n",
       "</tr>\n",
       "<tr>\n",
       "  <th>Method:</th>                 <td>MLE</td>       <th>  Df Model:          </th>  <td>     1</td>  \n",
       "</tr>\n",
       "<tr>\n",
       "  <th>Date:</th>            <td>Sun, 26 Jun 2022</td> <th>  Pseudo R-squ.:     </th>  <td>0.05740</td> \n",
       "</tr>\n",
       "<tr>\n",
       "  <th>Time:</th>                <td>21:09:25</td>     <th>  Log-Likelihood:    </th> <td> -280.95</td> \n",
       "</tr>\n",
       "<tr>\n",
       "  <th>converged:</th>             <td>True</td>       <th>  LL-Null:           </th> <td> -298.05</td> \n",
       "</tr>\n",
       "<tr>\n",
       "  <th>Covariance Type:</th>     <td>nonrobust</td>    <th>  LLR p-value:       </th> <td>4.937e-09</td>\n",
       "</tr>\n",
       "</table>\n",
       "<table class=\"simpletable\">\n",
       "<tr>\n",
       "      <td></td>         <th>coef</th>     <th>std err</th>      <th>z</th>      <th>P>|z|</th>  <th>[0.025</th>    <th>0.975]</th>  \n",
       "</tr>\n",
       "<tr>\n",
       "  <th>Intercept</th> <td>   -1.1690</td> <td>    0.143</td> <td>   -8.169</td> <td> 0.000</td> <td>   -1.449</td> <td>   -0.889</td>\n",
       "</tr>\n",
       "<tr>\n",
       "  <th>famhist</th>   <td>    1.1690</td> <td>    0.203</td> <td>    5.751</td> <td> 0.000</td> <td>    0.771</td> <td>    1.567</td>\n",
       "</tr>\n",
       "</table>"
      ],
      "text/plain": [
       "<class 'statsmodels.iolib.summary.Summary'>\n",
       "\"\"\"\n",
       "                           Logit Regression Results                           \n",
       "==============================================================================\n",
       "Dep. Variable:                    chd   No. Observations:                  462\n",
       "Model:                          Logit   Df Residuals:                      460\n",
       "Method:                           MLE   Df Model:                            1\n",
       "Date:                Sun, 26 Jun 2022   Pseudo R-squ.:                 0.05740\n",
       "Time:                        21:09:25   Log-Likelihood:                -280.95\n",
       "converged:                       True   LL-Null:                       -298.05\n",
       "Covariance Type:            nonrobust   LLR p-value:                 4.937e-09\n",
       "==============================================================================\n",
       "                 coef    std err          z      P>|z|      [0.025      0.975]\n",
       "------------------------------------------------------------------------------\n",
       "Intercept     -1.1690      0.143     -8.169      0.000      -1.449      -0.889\n",
       "famhist        1.1690      0.203      5.751      0.000       0.771       1.567\n",
       "==============================================================================\n",
       "\"\"\""
      ]
     },
     "execution_count": 23,
     "metadata": {},
     "output_type": "execute_result"
    }
   ],
   "source": [
    "#Se realiza el modelo de regresion\n",
    "model_1 = smf.logit('chd ~ famhist', df).fit()\n",
    "model_1.summary()\n",
    "\n",
    "#El valor absoluto de z es mayor a 1.96\n",
    "#P>|z| es muy bajo\n",
    "#El intervalo no pasa por cero\n"
   ]
  },
  {
   "cell_type": "code",
   "execution_count": 24,
   "metadata": {},
   "outputs": [],
   "source": [
    "# Funcion sigmoide para calcular la probabilidad\n",
    "def inverse_logit(x):\n",
    "    return 1 / (1 + np.exp(-x))"
   ]
  },
  {
   "cell_type": "code",
   "execution_count": 25,
   "metadata": {},
   "outputs": [
    {
     "name": "stdout",
     "output_type": "stream",
     "text": [
      "La probabilidad de tener una enfermedad es de 0.5 cuando existe antecedentes familiares\n",
      "La probabilidad de tener una enfermedad es de 0.24 cuando no existen antecedentes familiares\n",
      "Un individuo con antecedentes familiares tiene 0.26 mas de tener enfermedades cardiácas\n"
     ]
    }
   ],
   "source": [
    "prob_famhist = inverse_logit(model_1.params['Intercept'] + model_1.params['famhist'] * 1)\n",
    "prob_intercept = inverse_logit(model_1.params['Intercept'] + model_1.params['famhist'] * 0)\n",
    "\n",
    "print(f\"La probabilidad de tener una enfermedad es de {prob_famhist} cuando existe antecedentes familiares\")\n",
    "print(f\"La probabilidad de tener una enfermedad es de {round(prob_intercept,2)} cuando no existen antecedentes familiares\")\n",
    "print(f\"Un individuo con antecedentes familiares tiene {round(prob_famhist - prob_intercept,2)} mas de tener enfermedades cardiácas\")\n"
   ]
  },
  {
   "cell_type": "code",
   "execution_count": 26,
   "metadata": {},
   "outputs": [
    {
     "data": {
      "text/html": [
       "<table class=\"simpletable\">\n",
       "<caption>OLS Regression Results</caption>\n",
       "<tr>\n",
       "  <th>Dep. Variable:</th>           <td>chd</td>       <th>  R-squared:         </th> <td>   0.074</td>\n",
       "</tr>\n",
       "<tr>\n",
       "  <th>Model:</th>                   <td>OLS</td>       <th>  Adj. R-squared:    </th> <td>   0.072</td>\n",
       "</tr>\n",
       "<tr>\n",
       "  <th>Method:</th>             <td>Least Squares</td>  <th>  F-statistic:       </th> <td>   36.86</td>\n",
       "</tr>\n",
       "<tr>\n",
       "  <th>Date:</th>             <td>Sun, 26 Jun 2022</td> <th>  Prob (F-statistic):</th> <td>2.66e-09</td>\n",
       "</tr>\n",
       "<tr>\n",
       "  <th>Time:</th>                 <td>21:09:26</td>     <th>  Log-Likelihood:    </th> <td> -294.59</td>\n",
       "</tr>\n",
       "<tr>\n",
       "  <th>No. Observations:</th>      <td>   462</td>      <th>  AIC:               </th> <td>   593.2</td>\n",
       "</tr>\n",
       "<tr>\n",
       "  <th>Df Residuals:</th>          <td>   460</td>      <th>  BIC:               </th> <td>   601.4</td>\n",
       "</tr>\n",
       "<tr>\n",
       "  <th>Df Model:</th>              <td>     1</td>      <th>                     </th>     <td> </td>   \n",
       "</tr>\n",
       "<tr>\n",
       "  <th>Covariance Type:</th>      <td>nonrobust</td>    <th>                     </th>     <td> </td>   \n",
       "</tr>\n",
       "</table>\n",
       "<table class=\"simpletable\">\n",
       "<tr>\n",
       "      <td></td>         <th>coef</th>     <th>std err</th>      <th>t</th>      <th>P>|t|</th>  <th>[0.025</th>    <th>0.975]</th>  \n",
       "</tr>\n",
       "<tr>\n",
       "  <th>Intercept</th> <td>    0.2370</td> <td>    0.028</td> <td>    8.489</td> <td> 0.000</td> <td>    0.182</td> <td>    0.292</td>\n",
       "</tr>\n",
       "<tr>\n",
       "  <th>famhist</th>   <td>    0.2630</td> <td>    0.043</td> <td>    6.071</td> <td> 0.000</td> <td>    0.178</td> <td>    0.348</td>\n",
       "</tr>\n",
       "</table>\n",
       "<table class=\"simpletable\">\n",
       "<tr>\n",
       "  <th>Omnibus:</th>       <td>768.898</td> <th>  Durbin-Watson:     </th> <td>   1.961</td>\n",
       "</tr>\n",
       "<tr>\n",
       "  <th>Prob(Omnibus):</th> <td> 0.000</td>  <th>  Jarque-Bera (JB):  </th> <td>  58.778</td>\n",
       "</tr>\n",
       "<tr>\n",
       "  <th>Skew:</th>          <td> 0.579</td>  <th>  Prob(JB):          </th> <td>1.72e-13</td>\n",
       "</tr>\n",
       "<tr>\n",
       "  <th>Kurtosis:</th>      <td> 1.692</td>  <th>  Cond. No.          </th> <td>    2.47</td>\n",
       "</tr>\n",
       "</table><br/><br/>Notes:<br/>[1] Standard Errors assume that the covariance matrix of the errors is correctly specified."
      ],
      "text/plain": [
       "<class 'statsmodels.iolib.summary.Summary'>\n",
       "\"\"\"\n",
       "                            OLS Regression Results                            \n",
       "==============================================================================\n",
       "Dep. Variable:                    chd   R-squared:                       0.074\n",
       "Model:                            OLS   Adj. R-squared:                  0.072\n",
       "Method:                 Least Squares   F-statistic:                     36.86\n",
       "Date:                Sun, 26 Jun 2022   Prob (F-statistic):           2.66e-09\n",
       "Time:                        21:09:26   Log-Likelihood:                -294.59\n",
       "No. Observations:                 462   AIC:                             593.2\n",
       "Df Residuals:                     460   BIC:                             601.4\n",
       "Df Model:                           1                                         \n",
       "Covariance Type:            nonrobust                                         \n",
       "==============================================================================\n",
       "                 coef    std err          t      P>|t|      [0.025      0.975]\n",
       "------------------------------------------------------------------------------\n",
       "Intercept      0.2370      0.028      8.489      0.000       0.182       0.292\n",
       "famhist        0.2630      0.043      6.071      0.000       0.178       0.348\n",
       "==============================================================================\n",
       "Omnibus:                      768.898   Durbin-Watson:                   1.961\n",
       "Prob(Omnibus):                  0.000   Jarque-Bera (JB):               58.778\n",
       "Skew:                           0.579   Prob(JB):                     1.72e-13\n",
       "Kurtosis:                       1.692   Cond. No.                         2.47\n",
       "==============================================================================\n",
       "\n",
       "Notes:\n",
       "[1] Standard Errors assume that the covariance matrix of the errors is correctly specified.\n",
       "\"\"\""
      ]
     },
     "execution_count": 26,
     "metadata": {},
     "output_type": "execute_result"
    }
   ],
   "source": [
    "#Se replica el modelo con smf.ols\n",
    "model_ols = smf.ols('chd ~ famhist', df).fit()\n",
    "model_ols.summary()"
   ]
  },
  {
   "cell_type": "markdown",
   "metadata": {},
   "source": [
    "# Desafío 3: Estimación completa\n",
    "\n",
    "- Depure el modelo manteniendo las variables con significancia estadística al 95%.\n",
    "- Compare los estadísticos de bondad de ajuste entre ambos.\n",
    "- Reporte de forma sucinta el efecto de las variables en el log-odds de tener una enfermedad coronaria."
   ]
  },
  {
   "cell_type": "code",
   "execution_count": 27,
   "metadata": {},
   "outputs": [
    {
     "name": "stdout",
     "output_type": "stream",
     "text": [
      "Optimization terminated successfully.\n",
      "         Current function value: 0.510974\n",
      "         Iterations 6\n"
     ]
    },
    {
     "data": {
      "text/html": [
       "<table class=\"simpletable\">\n",
       "<caption>Logit Regression Results</caption>\n",
       "<tr>\n",
       "  <th>Dep. Variable:</th>          <td>chd</td>       <th>  No. Observations:  </th>  <td>   462</td>  \n",
       "</tr>\n",
       "<tr>\n",
       "  <th>Model:</th>                 <td>Logit</td>      <th>  Df Residuals:      </th>  <td>   452</td>  \n",
       "</tr>\n",
       "<tr>\n",
       "  <th>Method:</th>                 <td>MLE</td>       <th>  Df Model:          </th>  <td>     9</td>  \n",
       "</tr>\n",
       "<tr>\n",
       "  <th>Date:</th>            <td>Sun, 26 Jun 2022</td> <th>  Pseudo R-squ.:     </th>  <td>0.2080</td>  \n",
       "</tr>\n",
       "<tr>\n",
       "  <th>Time:</th>                <td>21:09:26</td>     <th>  Log-Likelihood:    </th> <td> -236.07</td> \n",
       "</tr>\n",
       "<tr>\n",
       "  <th>converged:</th>             <td>True</td>       <th>  LL-Null:           </th> <td> -298.05</td> \n",
       "</tr>\n",
       "<tr>\n",
       "  <th>Covariance Type:</th>     <td>nonrobust</td>    <th>  LLR p-value:       </th> <td>2.055e-22</td>\n",
       "</tr>\n",
       "</table>\n",
       "<table class=\"simpletable\">\n",
       "<tr>\n",
       "      <td></td>         <th>coef</th>     <th>std err</th>      <th>z</th>      <th>P>|z|</th>  <th>[0.025</th>    <th>0.975]</th>  \n",
       "</tr>\n",
       "<tr>\n",
       "  <th>Intercept</th> <td>   -6.1507</td> <td>    1.308</td> <td>   -4.701</td> <td> 0.000</td> <td>   -8.715</td> <td>   -3.587</td>\n",
       "</tr>\n",
       "<tr>\n",
       "  <th>sbp</th>       <td>    0.0065</td> <td>    0.006</td> <td>    1.135</td> <td> 0.256</td> <td>   -0.005</td> <td>    0.018</td>\n",
       "</tr>\n",
       "<tr>\n",
       "  <th>tobacco</th>   <td>    0.0794</td> <td>    0.027</td> <td>    2.984</td> <td> 0.003</td> <td>    0.027</td> <td>    0.132</td>\n",
       "</tr>\n",
       "<tr>\n",
       "  <th>ldl</th>       <td>    0.1739</td> <td>    0.060</td> <td>    2.915</td> <td> 0.004</td> <td>    0.057</td> <td>    0.291</td>\n",
       "</tr>\n",
       "<tr>\n",
       "  <th>adiposity</th> <td>    0.0186</td> <td>    0.029</td> <td>    0.635</td> <td> 0.526</td> <td>   -0.039</td> <td>    0.076</td>\n",
       "</tr>\n",
       "<tr>\n",
       "  <th>famhist</th>   <td>    0.9254</td> <td>    0.228</td> <td>    4.061</td> <td> 0.000</td> <td>    0.479</td> <td>    1.372</td>\n",
       "</tr>\n",
       "<tr>\n",
       "  <th>typea</th>     <td>    0.0396</td> <td>    0.012</td> <td>    3.214</td> <td> 0.001</td> <td>    0.015</td> <td>    0.064</td>\n",
       "</tr>\n",
       "<tr>\n",
       "  <th>obesity</th>   <td>   -0.0629</td> <td>    0.044</td> <td>   -1.422</td> <td> 0.155</td> <td>   -0.150</td> <td>    0.024</td>\n",
       "</tr>\n",
       "<tr>\n",
       "  <th>alcohol</th>   <td>    0.0001</td> <td>    0.004</td> <td>    0.027</td> <td> 0.978</td> <td>   -0.009</td> <td>    0.009</td>\n",
       "</tr>\n",
       "<tr>\n",
       "  <th>age</th>       <td>    0.0452</td> <td>    0.012</td> <td>    3.728</td> <td> 0.000</td> <td>    0.021</td> <td>    0.069</td>\n",
       "</tr>\n",
       "</table>"
      ],
      "text/plain": [
       "<class 'statsmodels.iolib.summary.Summary'>\n",
       "\"\"\"\n",
       "                           Logit Regression Results                           \n",
       "==============================================================================\n",
       "Dep. Variable:                    chd   No. Observations:                  462\n",
       "Model:                          Logit   Df Residuals:                      452\n",
       "Method:                           MLE   Df Model:                            9\n",
       "Date:                Sun, 26 Jun 2022   Pseudo R-squ.:                  0.2080\n",
       "Time:                        21:09:26   Log-Likelihood:                -236.07\n",
       "converged:                       True   LL-Null:                       -298.05\n",
       "Covariance Type:            nonrobust   LLR p-value:                 2.055e-22\n",
       "==============================================================================\n",
       "                 coef    std err          z      P>|z|      [0.025      0.975]\n",
       "------------------------------------------------------------------------------\n",
       "Intercept     -6.1507      1.308     -4.701      0.000      -8.715      -3.587\n",
       "sbp            0.0065      0.006      1.135      0.256      -0.005       0.018\n",
       "tobacco        0.0794      0.027      2.984      0.003       0.027       0.132\n",
       "ldl            0.1739      0.060      2.915      0.004       0.057       0.291\n",
       "adiposity      0.0186      0.029      0.635      0.526      -0.039       0.076\n",
       "famhist        0.9254      0.228      4.061      0.000       0.479       1.372\n",
       "typea          0.0396      0.012      3.214      0.001       0.015       0.064\n",
       "obesity       -0.0629      0.044     -1.422      0.155      -0.150       0.024\n",
       "alcohol        0.0001      0.004      0.027      0.978      -0.009       0.009\n",
       "age            0.0452      0.012      3.728      0.000       0.021       0.069\n",
       "==============================================================================\n",
       "\"\"\""
      ]
     },
     "execution_count": 27,
     "metadata": {},
     "output_type": "execute_result"
    }
   ],
   "source": [
    "model_2 = smf.logit('chd ~ sbp + tobacco + ldl + adiposity + famhist + typea + obesity + alcohol + age', df).fit()\n",
    "model_2.summary()"
   ]
  },
  {
   "cell_type": "code",
   "execution_count": 28,
   "metadata": {},
   "outputs": [
    {
     "name": "stdout",
     "output_type": "stream",
     "text": [
      "Optimization terminated successfully.\n",
      "         Current function value: 0.514811\n",
      "         Iterations 6\n"
     ]
    },
    {
     "data": {
      "text/html": [
       "<table class=\"simpletable\">\n",
       "<caption>Logit Regression Results</caption>\n",
       "<tr>\n",
       "  <th>Dep. Variable:</th>          <td>chd</td>       <th>  No. Observations:  </th>  <td>   462</td>  \n",
       "</tr>\n",
       "<tr>\n",
       "  <th>Model:</th>                 <td>Logit</td>      <th>  Df Residuals:      </th>  <td>   456</td>  \n",
       "</tr>\n",
       "<tr>\n",
       "  <th>Method:</th>                 <td>MLE</td>       <th>  Df Model:          </th>  <td>     5</td>  \n",
       "</tr>\n",
       "<tr>\n",
       "  <th>Date:</th>            <td>Sun, 26 Jun 2022</td> <th>  Pseudo R-squ.:     </th>  <td>0.2020</td>  \n",
       "</tr>\n",
       "<tr>\n",
       "  <th>Time:</th>                <td>21:09:26</td>     <th>  Log-Likelihood:    </th> <td> -237.84</td> \n",
       "</tr>\n",
       "<tr>\n",
       "  <th>converged:</th>             <td>True</td>       <th>  LL-Null:           </th> <td> -298.05</td> \n",
       "</tr>\n",
       "<tr>\n",
       "  <th>Covariance Type:</th>     <td>nonrobust</td>    <th>  LLR p-value:       </th> <td>2.554e-24</td>\n",
       "</tr>\n",
       "</table>\n",
       "<table class=\"simpletable\">\n",
       "<tr>\n",
       "      <td></td>         <th>coef</th>     <th>std err</th>      <th>z</th>      <th>P>|z|</th>  <th>[0.025</th>    <th>0.975]</th>  \n",
       "</tr>\n",
       "<tr>\n",
       "  <th>Intercept</th> <td>   -6.4464</td> <td>    0.921</td> <td>   -7.000</td> <td> 0.000</td> <td>   -8.251</td> <td>   -4.642</td>\n",
       "</tr>\n",
       "<tr>\n",
       "  <th>tobacco</th>   <td>    0.0804</td> <td>    0.026</td> <td>    3.106</td> <td> 0.002</td> <td>    0.030</td> <td>    0.131</td>\n",
       "</tr>\n",
       "<tr>\n",
       "  <th>ldl</th>       <td>    0.1620</td> <td>    0.055</td> <td>    2.947</td> <td> 0.003</td> <td>    0.054</td> <td>    0.270</td>\n",
       "</tr>\n",
       "<tr>\n",
       "  <th>famhist</th>   <td>    0.9082</td> <td>    0.226</td> <td>    4.023</td> <td> 0.000</td> <td>    0.466</td> <td>    1.351</td>\n",
       "</tr>\n",
       "<tr>\n",
       "  <th>typea</th>     <td>    0.0371</td> <td>    0.012</td> <td>    3.051</td> <td> 0.002</td> <td>    0.013</td> <td>    0.061</td>\n",
       "</tr>\n",
       "<tr>\n",
       "  <th>age</th>       <td>    0.0505</td> <td>    0.010</td> <td>    4.944</td> <td> 0.000</td> <td>    0.030</td> <td>    0.070</td>\n",
       "</tr>\n",
       "</table>"
      ],
      "text/plain": [
       "<class 'statsmodels.iolib.summary.Summary'>\n",
       "\"\"\"\n",
       "                           Logit Regression Results                           \n",
       "==============================================================================\n",
       "Dep. Variable:                    chd   No. Observations:                  462\n",
       "Model:                          Logit   Df Residuals:                      456\n",
       "Method:                           MLE   Df Model:                            5\n",
       "Date:                Sun, 26 Jun 2022   Pseudo R-squ.:                  0.2020\n",
       "Time:                        21:09:26   Log-Likelihood:                -237.84\n",
       "converged:                       True   LL-Null:                       -298.05\n",
       "Covariance Type:            nonrobust   LLR p-value:                 2.554e-24\n",
       "==============================================================================\n",
       "                 coef    std err          z      P>|z|      [0.025      0.975]\n",
       "------------------------------------------------------------------------------\n",
       "Intercept     -6.4464      0.921     -7.000      0.000      -8.251      -4.642\n",
       "tobacco        0.0804      0.026      3.106      0.002       0.030       0.131\n",
       "ldl            0.1620      0.055      2.947      0.003       0.054       0.270\n",
       "famhist        0.9082      0.226      4.023      0.000       0.466       1.351\n",
       "typea          0.0371      0.012      3.051      0.002       0.013       0.061\n",
       "age            0.0505      0.010      4.944      0.000       0.030       0.070\n",
       "==============================================================================\n",
       "\"\"\""
      ]
     },
     "execution_count": 28,
     "metadata": {},
     "output_type": "execute_result"
    }
   ],
   "source": [
    "#Filtrando por variables significativas\n",
    "model_3 = smf.logit('chd ~ tobacco + ldl  + famhist + typea + age', df).fit()\n",
    "model_3.summary()"
   ]
  },
  {
   "cell_type": "code",
   "execution_count": 29,
   "metadata": {},
   "outputs": [],
   "source": [
    "log_odds = model_3.params['Intercept'] + \\\n",
    "            model_3.params['tobacco'] * 100 + \\\n",
    "            model_3.params['ldl'] + \\\n",
    "            model_3.params['famhist'] + \\\n",
    "            model_3.params['typea'] + \\\n",
    "            model_3.params['age']"
   ]
  },
  {
   "cell_type": "markdown",
   "metadata": {},
   "source": [
    "# Desafío 4: Estimación de perfiles\n",
    "\n",
    "- La probabilidad de tener una enfermedad coronaria para un individuo con características similares a la muestra.\n",
    "- La probabilidad de tener una enfermedad coronaria para un individuo con altos niveles de lipoproteína de baja densidad, manteniendo todas las demás características constantes.\n",
    "- La probabilidad de tener una enfermedad coronaria para un individuo con bajos niveles de lipoproteína de baja densidad, manteniendo todas las demás características constantes."
   ]
  },
  {
   "cell_type": "code",
   "execution_count": 30,
   "metadata": {},
   "outputs": [],
   "source": [
    "#Funcion pasando el modelo\n",
    "def predict_proba(model=model_3, **values):\n",
    "    values = pd.Series(values)\n",
    "    log_odds = sum(model.params*pd.Series(values))\n",
    "    prob = inverse_logit(log_odds)\n",
    "    return prob"
   ]
  },
  {
   "cell_type": "code",
   "execution_count": 31,
   "metadata": {},
   "outputs": [
    {
     "data": {
      "text/plain": [
       "0.29370927481586934"
      ]
     },
     "execution_count": 31,
     "metadata": {},
     "output_type": "execute_result"
    }
   ],
   "source": [
    "#Probabilidad PROMEDIO\n",
    "prob_profile_mean = predict_proba(Intercept=1,\n",
    "                                  tobacco=df['tobacco'].mean(),\n",
    "                                  ldl=df['ldl'].mean(),\n",
    "                                  famhist=df['famhist'].mean(),\n",
    "                                  typea=df['typea'].mean(),\n",
    "                                  age=df['age'].mean(),\n",
    "                                 )\n",
    "prob_profile_mean"
   ]
  },
  {
   "cell_type": "code",
   "execution_count": 32,
   "metadata": {},
   "outputs": [
    {
     "data": {
      "text/plain": [
       "(0.34275863459388917, 0.24186028976271584)"
      ]
     },
     "execution_count": 32,
     "metadata": {},
     "output_type": "execute_result"
    }
   ],
   "source": [
    "#Probabilidad LDL\n",
    "high = 0.8 #Alto ldl\n",
    "low = 0.2 #Bajo ldl\n",
    "\n",
    "prob_profile_ldl_high = predict_proba(Intercept=1,\n",
    "                                  tobacco=df['tobacco'].mean(),\n",
    "                                  ldl=df['ldl'].quantile(high),\n",
    "                                  famhist=df['famhist'].mean(),\n",
    "                                  typea=df['typea'].mean(),\n",
    "                                  age=df['age'].mean(),\n",
    "                                 )\n",
    "\n",
    "prob_profile_ldl_low = predict_proba(Intercept=1,\n",
    "                                  tobacco=df['tobacco'].mean(),\n",
    "                                  ldl=df['ldl'].quantile(low),\n",
    "                                  famhist=df['famhist'].mean(),\n",
    "                                  typea=df['typea'].mean(),\n",
    "                                  age=df['age'].mean(),\n",
    "                                 )\n",
    "prob_profile_ldl_high, prob_profile_ldl_low"
   ]
  },
  {
   "cell_type": "markdown",
   "metadata": {},
   "source": [
    "## OTRAS VARIABLES"
   ]
  },
  {
   "cell_type": "code",
   "execution_count": 33,
   "metadata": {},
   "outputs": [],
   "source": [
    "## TOBACCO\n",
    "prob_profile_tobacco_high = predict_proba(Intercept=1,\n",
    "                                  tobacco=df['tobacco'].quantile(high),\n",
    "                                  ldl=df['ldl'].mean(),\n",
    "                                  famhist=df['famhist'].mean(),\n",
    "                                  typea=df['typea'].mean(),\n",
    "                                  age=df['age'].mean(),\n",
    "                                 )\n",
    "\n",
    "prob_profile_tobacco_low = predict_proba(Intercept=1,\n",
    "                                  tobacco=df['tobacco'].quantile(low),\n",
    "                                  ldl=df['ldl'].mean(),\n",
    "                                  famhist=df['famhist'].mean(),\n",
    "                                  typea=df['typea'].mean(),\n",
    "                                  age=df['age'].mean(),\n",
    "                                 )\n",
    "\n",
    "## TYPEA\n",
    "prob_profile_typea_high = predict_proba(Intercept=1,\n",
    "                                  tobacco=df['tobacco'].mean(),\n",
    "                                  ldl=df['ldl'].mean(),\n",
    "                                  famhist=df['famhist'].mean(),\n",
    "                                  typea=df['typea'].quantile(high),\n",
    "                                  age=df['age'].mean(),\n",
    "                                 )\n",
    "\n",
    "prob_profile_typea_low = predict_proba(Intercept=1,\n",
    "                                  tobacco=df['tobacco'].mean(),\n",
    "                                  ldl=df['ldl'].mean(),\n",
    "                                  famhist=df['famhist'].mean(),\n",
    "                                  typea=df['typea'].quantile(low),\n",
    "                                  age=df['age'].mean(),\n",
    "                                 )\n",
    "\n",
    "## AGE\n",
    "prob_profile_age_high = predict_proba(Intercept=1,\n",
    "                                  tobacco=df['tobacco'].mean(),\n",
    "                                  ldl=df['ldl'].mean(),\n",
    "                                  famhist=df['famhist'].mean(),\n",
    "                                  typea=df['typea'].mean(),\n",
    "                                  age=df['age'].quantile(high),\n",
    "                                 )\n",
    "\n",
    "prob_profile_age_low = predict_proba(Intercept=1,\n",
    "                                  tobacco=df['tobacco'].mean(),\n",
    "                                  ldl=df['ldl'].mean(),\n",
    "                                  famhist=df['famhist'].mean(),\n",
    "                                  typea=df['typea'].mean(),\n",
    "                                  age=df['age'].quantile(low),\n",
    "                                 )\n",
    "\n",
    "## FAMHIST\n",
    "prob_profile_famhist_1 = predict_proba(Intercept=1,\n",
    "                                  tobacco=df['tobacco'].mean(),\n",
    "                                  ldl=df['ldl'].mean(),\n",
    "                                  famhist=1,\n",
    "                                  typea=df['typea'].mean(),\n",
    "                                  age=df['age'].mean(),\n",
    "                                 )\n",
    "\n",
    "prob_profile_famhist_0 = predict_proba(Intercept=1,\n",
    "                                  tobacco=df['tobacco'].mean(),\n",
    "                                  ldl=df['ldl'].mean(),\n",
    "                                  famhist=0,\n",
    "                                  typea=df['typea'].mean(),\n",
    "                                  age=df['age'].mean(),\n",
    "                                 )"
   ]
  },
  {
   "cell_type": "code",
   "execution_count": 34,
   "metadata": {},
   "outputs": [
    {
     "data": {
      "text/plain": [
       "age_low         0.164508\n",
       "famhist_0       0.221860\n",
       "tobacco_low     0.236918\n",
       "ldl_low         0.241860\n",
       "typea_low       0.242119\n",
       "average         0.293709\n",
       "tobacco_high    0.337409\n",
       "ldl_high        0.342759\n",
       "typea_high      0.357927\n",
       "famhist_1       0.414187\n",
       "age_high        0.472217\n",
       "dtype: float64"
      ]
     },
     "execution_count": 34,
     "metadata": {},
     "output_type": "execute_result"
    }
   ],
   "source": [
    "#Serie con resultados\n",
    "prob_dict = pd.Series({'average' : prob_profile_mean,\n",
    "                     'ldl_high': prob_profile_ldl_high,\n",
    "                     'ldl_low' : prob_profile_ldl_low,\n",
    "                     'age_high' : prob_profile_age_high,\n",
    "                     'age_low' : prob_profile_age_low,\n",
    "                     'typea_high' : prob_profile_typea_high,\n",
    "                     'typea_low' : prob_profile_typea_low,\n",
    "                     'tobacco_high' : prob_profile_tobacco_high,\n",
    "                     'tobacco_low' : prob_profile_tobacco_low,\n",
    "                     'famhist_1' : prob_profile_famhist_1,\n",
    "                     'famhist_0' : prob_profile_famhist_0})\n",
    "prob_dict.sort_values()"
   ]
  },
  {
   "cell_type": "markdown",
   "metadata": {},
   "source": [
    "## EXTRAS"
   ]
  },
  {
   "cell_type": "code",
   "execution_count": 35,
   "metadata": {},
   "outputs": [
    {
     "data": {
      "text/plain": [
       "<matplotlib.lines.Line2D at 0x1d83a82eeb0>"
      ]
     },
     "execution_count": 35,
     "metadata": {},
     "output_type": "execute_result"
    },
    {
     "data": {
      "image/png": "[encoded data removed]",
      "text/plain": [
       "<Figure size 500x300 with 1 Axes>"
      ]
     },
     "metadata": {},
     "output_type": "display_data"
    }
   ],
   "source": [
    "plt.plot(prob_dict,  prob_dict.index, 'o')\n",
    "plt.axvline(prob_dict['average'])"
   ]
  },
  {
   "cell_type": "markdown",
   "metadata": {},
   "source": [
    "### TEST KS \n",
    "Test entre 2 distribuciones para medir la distancia entre ambas"
   ]
  },
  {
   "cell_type": "code",
   "execution_count": 36,
   "metadata": {},
   "outputs": [],
   "source": [
    "from scipy.stats import ks_2samp\n",
    "\n",
    "def ks_statistic(df, var_obj, cols):\n",
    "    ks = []\n",
    "    for v in cols:\n",
    "        ks_i = ks_2samp(df.loc[df[var_obj] == 1, v], df.loc[df[var_obj] == 0, v]).statistic\n",
    "        ks.append(ks_i)\n",
    "    \n",
    "    data_ks = pd.DataFrame({'var':cols, 'ks':ks})\n",
    "    return data_ks.sort_values('ks', ascending=False)\n",
    "    "
   ]
  },
  {
   "cell_type": "code",
   "execution_count": 37,
   "metadata": {},
   "outputs": [
    {
     "data": {
      "text/html": [
       "<div>\n",
       "<style scoped>\n",
       "    .dataframe tbody tr th:only-of-type {\n",
       "        vertical-align: middle;\n",
       "    }\n",
       "\n",
       "    .dataframe tbody tr th {\n",
       "        vertical-align: top;\n",
       "    }\n",
       "\n",
       "    .dataframe thead th {\n",
       "        text-align: right;\n",
       "    }\n",
       "</style>\n",
       "<table border=\"1\" class=\"dataframe\">\n",
       "  <thead>\n",
       "    <tr style=\"text-align: right;\">\n",
       "      <th></th>\n",
       "      <th>var</th>\n",
       "      <th>ks</th>\n",
       "    </tr>\n",
       "  </thead>\n",
       "  <tbody>\n",
       "    <tr>\n",
       "      <th>8</th>\n",
       "      <td>age</td>\n",
       "      <td>0.350538</td>\n",
       "    </tr>\n",
       "    <tr>\n",
       "      <th>1</th>\n",
       "      <td>tobacco</td>\n",
       "      <td>0.309230</td>\n",
       "    </tr>\n",
       "    <tr>\n",
       "      <th>4</th>\n",
       "      <td>famhist</td>\n",
       "      <td>0.282119</td>\n",
       "    </tr>\n",
       "    <tr>\n",
       "      <th>2</th>\n",
       "      <td>ldl</td>\n",
       "      <td>0.257781</td>\n",
       "    </tr>\n",
       "    <tr>\n",
       "      <th>3</th>\n",
       "      <td>adiposity</td>\n",
       "      <td>0.233113</td>\n",
       "    </tr>\n",
       "    <tr>\n",
       "      <th>0</th>\n",
       "      <td>sbp</td>\n",
       "      <td>0.166680</td>\n",
       "    </tr>\n",
       "    <tr>\n",
       "      <th>6</th>\n",
       "      <td>obesity</td>\n",
       "      <td>0.131705</td>\n",
       "    </tr>\n",
       "    <tr>\n",
       "      <th>7</th>\n",
       "      <td>alcohol</td>\n",
       "      <td>0.099627</td>\n",
       "    </tr>\n",
       "    <tr>\n",
       "      <th>5</th>\n",
       "      <td>typea</td>\n",
       "      <td>0.092177</td>\n",
       "    </tr>\n",
       "  </tbody>\n",
       "</table>\n",
       "</div>"
      ],
      "text/plain": [
       "         var        ks\n",
       "8        age  0.350538\n",
       "1    tobacco  0.309230\n",
       "4    famhist  0.282119\n",
       "2        ldl  0.257781\n",
       "3  adiposity  0.233113\n",
       "0        sbp  0.166680\n",
       "6    obesity  0.131705\n",
       "7    alcohol  0.099627\n",
       "5      typea  0.092177"
      ]
     },
     "execution_count": 37,
     "metadata": {},
     "output_type": "execute_result"
    }
   ],
   "source": [
    "var_obj='chd' # Variable objetivo\n",
    "cols = ['sbp', 'tobacco', 'ldl', 'adiposity', 'famhist', 'typea', 'obesity', 'alcohol', 'age']\n",
    "\n",
    "ks_statistic(df, var_obj, cols) "
   ]
  },
  {
   "cell_type": "code",
   "execution_count": 38,
   "metadata": {},
   "outputs": [
    {
     "data": {
      "text/plain": [
       "<matplotlib.legend.Legend at 0x1d83d4dc190>"
      ]
     },
     "execution_count": 38,
     "metadata": {},
     "output_type": "execute_result"
    },
    {
     "data": {
      "image/png": "[encoded data removed]",
      "text/plain": [
       "<Figure size 500x300 with 1 Axes>"
      ]
     },
     "metadata": {},
     "output_type": "display_data"
    }
   ],
   "source": [
    "#ver las curvas resultantes\n",
    "var = 'age'\n",
    "#var = 'alcohol'\n",
    "#var = 'tobacco'\n",
    "\n",
    "sns.distplot(df.loc[df[var_obj]==0, var], color='blue', label='Class 0')\n",
    "sns.distplot(df.loc[df[var_obj]==1, var], color='red', label='Class 1')\n",
    "plt.legend()"
   ]
  }
 ],
 "metadata": {
  "kernelspec": {
   "display_name": "Python 3.9.5 64-bit",
   "language": "python",
   "name": "python3"
  },
  "language_info": {
   "codemirror_mode": {
    "name": "ipython",
    "version": 3
   },
   "file_extension": ".py",
   "mimetype": "text/x-python",
   "name": "python",
   "nbconvert_exporter": "python",
   "pygments_lexer": "ipython3",
   "version": "3.9.5"
  },
  "vscode": {
   "interpreter": {
    "hash": "11938c6bc6919ae2720b4d5011047913343b08a43b18698fd82dedb0d4417594"
   }
  }
 },
 "nbformat": 4,
 "nbformat_minor": 4
}
