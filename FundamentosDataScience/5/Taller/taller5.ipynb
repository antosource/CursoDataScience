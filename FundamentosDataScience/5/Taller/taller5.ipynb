{
 "cells": [
  {
   "cell_type": "markdown",
   "id": "c7cb7a65",
   "metadata": {},
   "source": [
    "### Desafío - Regresión desde el aprendizaje de máquinas\n",
    "#### Descripción\n",
    "Una consultora internacional radicada en EEUU está buscando analistas, por lo que han diseñado una prueba que permita poder seleccionar a quienes cuenten con las habilidades necesarias para crear modelación estadística. Para ello, ponen a disposición de los interesados una base de datos sobre los precios de las viviendas en Boston, utilizada en el paper Harrison Jr, D., & Rubinfeld, D. L. (1978). Hedonic housing prices and the demand for clean air. Journal of environmental economics and management, 5(1), 81-102. El objetivo del ejercicio de captación de talento es desarrollar un modelo predictivo para el valor mediano de las casas mediante el entrenamiento de un modelo de regresión lineal. \n",
    "- <code>crim</code>  Tasa de criminalidad por sector de Boston.\n",
    "- <code>zn</code> proporción de terreno residencial asignado para terrenos baldíos.\n",
    "- <code>indus</code> proporción de negocios no asociados al comercio por sector.\n",
    "- <code>chas</code> Dummy. 1 si el sector colinda con el río Charles, 0 de lo contrario.\n",
    "- <code>nox</code> Concentración de dióxido de carbono.\n",
    "- <code>rm</code> cantidad promedio de habitaciones por casa.\n",
    "- <code>age</code> proporción de casas construidas antes de 1940.\n",
    "- <code>dis</code> distancia promedio a cinco centros de empleos.\n",
    "- <code>rad</code> índice de accesibilidad a autopistas.\n",
    "- <code>tax</code> nivel de impuestos asociados a viviendas.\n",
    "- <code>ptratio</code> razón alumno:profesor por sector de Boston.\n",
    "- <code>black</code> proporción de afroamericanos por sector de Boston.\n",
    "- <code>lstat</code> porcentaje de población de estratos bajos.\n",
    "- <code>medv</code> valor mediano de las casas"
   ]
  },
  {
   "cell_type": "markdown",
   "id": "244300f7",
   "metadata": {},
   "source": [
    "#### 1. Preparar el ambiente de trabajo (1 puntos)\n",
    "- Importe las librerías básicas para el análisis de datos.\n",
    "- Importe el módulo <code>linear_model </code>, y las funciones <code>mean_squared_error, r2_score y train_test_split </code>.\n",
    "- Importe la base de datos boston.csv y elimine la columna <code>Unnamed: 0</code>.\n",
    "- Obtenga las medidas descriptivas de la base de datos con <code>.describe()</code> "
   ]
  },
  {
   "cell_type": "code",
   "execution_count": 3,
   "id": "d0be1a0f",
   "metadata": {},
   "outputs": [],
   "source": [
    "import numpy as np\n",
    "import pandas as pd\n",
    "import matplotlib.pyplot as plt\n",
    "\n",
    "from sklearn import linear_model\n",
    "from sklearn.metrics import mean_squared_error, r2_score"
   ]
  },
  {
   "cell_type": "code",
   "execution_count": 4,
   "id": "0b3e9fbd",
   "metadata": {},
   "outputs": [],
   "source": [
    "df = pd.read_csv(\"boston.csv\",index_col=0)"
   ]
  },
  {
   "cell_type": "code",
   "execution_count": 5,
   "id": "db0b9648",
   "metadata": {},
   "outputs": [
    {
     "data": {
      "text/html": [
       "<div>\n",
       "<style scoped>\n",
       "    .dataframe tbody tr th:only-of-type {\n",
       "        vertical-align: middle;\n",
       "    }\n",
       "\n",
       "    .dataframe tbody tr th {\n",
       "        vertical-align: top;\n",
       "    }\n",
       "\n",
       "    .dataframe thead th {\n",
       "        text-align: right;\n",
       "    }\n",
       "</style>\n",
       "<table border=\"1\" class=\"dataframe\">\n",
       "  <thead>\n",
       "    <tr style=\"text-align: right;\">\n",
       "      <th></th>\n",
       "      <th>crim</th>\n",
       "      <th>zn</th>\n",
       "      <th>indus</th>\n",
       "      <th>chas</th>\n",
       "      <th>nox</th>\n",
       "      <th>rm</th>\n",
       "      <th>age</th>\n",
       "      <th>dis</th>\n",
       "      <th>rad</th>\n",
       "      <th>tax</th>\n",
       "      <th>ptratio</th>\n",
       "      <th>black</th>\n",
       "      <th>lstat</th>\n",
       "      <th>medv</th>\n",
       "    </tr>\n",
       "  </thead>\n",
       "  <tbody>\n",
       "    <tr>\n",
       "      <th>count</th>\n",
       "      <td>506.000000</td>\n",
       "      <td>506.000000</td>\n",
       "      <td>506.000000</td>\n",
       "      <td>506.000000</td>\n",
       "      <td>506.000000</td>\n",
       "      <td>506.000000</td>\n",
       "      <td>506.000000</td>\n",
       "      <td>506.000000</td>\n",
       "      <td>506.000000</td>\n",
       "      <td>506.000000</td>\n",
       "      <td>506.000000</td>\n",
       "      <td>506.000000</td>\n",
       "      <td>506.000000</td>\n",
       "      <td>506.000000</td>\n",
       "    </tr>\n",
       "    <tr>\n",
       "      <th>mean</th>\n",
       "      <td>3.613524</td>\n",
       "      <td>11.363636</td>\n",
       "      <td>11.136779</td>\n",
       "      <td>0.069170</td>\n",
       "      <td>0.554695</td>\n",
       "      <td>6.284634</td>\n",
       "      <td>68.574901</td>\n",
       "      <td>3.795043</td>\n",
       "      <td>9.549407</td>\n",
       "      <td>408.237154</td>\n",
       "      <td>18.455534</td>\n",
       "      <td>356.674032</td>\n",
       "      <td>12.653063</td>\n",
       "      <td>22.532806</td>\n",
       "    </tr>\n",
       "    <tr>\n",
       "      <th>std</th>\n",
       "      <td>8.601545</td>\n",
       "      <td>23.322453</td>\n",
       "      <td>6.860353</td>\n",
       "      <td>0.253994</td>\n",
       "      <td>0.115878</td>\n",
       "      <td>0.702617</td>\n",
       "      <td>28.148861</td>\n",
       "      <td>2.105710</td>\n",
       "      <td>8.707259</td>\n",
       "      <td>168.537116</td>\n",
       "      <td>2.164946</td>\n",
       "      <td>91.294864</td>\n",
       "      <td>7.141062</td>\n",
       "      <td>9.197104</td>\n",
       "    </tr>\n",
       "    <tr>\n",
       "      <th>min</th>\n",
       "      <td>0.006320</td>\n",
       "      <td>0.000000</td>\n",
       "      <td>0.460000</td>\n",
       "      <td>0.000000</td>\n",
       "      <td>0.385000</td>\n",
       "      <td>3.561000</td>\n",
       "      <td>2.900000</td>\n",
       "      <td>1.129600</td>\n",
       "      <td>1.000000</td>\n",
       "      <td>187.000000</td>\n",
       "      <td>12.600000</td>\n",
       "      <td>0.320000</td>\n",
       "      <td>1.730000</td>\n",
       "      <td>5.000000</td>\n",
       "    </tr>\n",
       "    <tr>\n",
       "      <th>25%</th>\n",
       "      <td>0.082045</td>\n",
       "      <td>0.000000</td>\n",
       "      <td>5.190000</td>\n",
       "      <td>0.000000</td>\n",
       "      <td>0.449000</td>\n",
       "      <td>5.885500</td>\n",
       "      <td>45.025000</td>\n",
       "      <td>2.100175</td>\n",
       "      <td>4.000000</td>\n",
       "      <td>279.000000</td>\n",
       "      <td>17.400000</td>\n",
       "      <td>375.377500</td>\n",
       "      <td>6.950000</td>\n",
       "      <td>17.025000</td>\n",
       "    </tr>\n",
       "    <tr>\n",
       "      <th>50%</th>\n",
       "      <td>0.256510</td>\n",
       "      <td>0.000000</td>\n",
       "      <td>9.690000</td>\n",
       "      <td>0.000000</td>\n",
       "      <td>0.538000</td>\n",
       "      <td>6.208500</td>\n",
       "      <td>77.500000</td>\n",
       "      <td>3.207450</td>\n",
       "      <td>5.000000</td>\n",
       "      <td>330.000000</td>\n",
       "      <td>19.050000</td>\n",
       "      <td>391.440000</td>\n",
       "      <td>11.360000</td>\n",
       "      <td>21.200000</td>\n",
       "    </tr>\n",
       "    <tr>\n",
       "      <th>75%</th>\n",
       "      <td>3.677083</td>\n",
       "      <td>12.500000</td>\n",
       "      <td>18.100000</td>\n",
       "      <td>0.000000</td>\n",
       "      <td>0.624000</td>\n",
       "      <td>6.623500</td>\n",
       "      <td>94.075000</td>\n",
       "      <td>5.188425</td>\n",
       "      <td>24.000000</td>\n",
       "      <td>666.000000</td>\n",
       "      <td>20.200000</td>\n",
       "      <td>396.225000</td>\n",
       "      <td>16.955000</td>\n",
       "      <td>25.000000</td>\n",
       "    </tr>\n",
       "    <tr>\n",
       "      <th>max</th>\n",
       "      <td>88.976200</td>\n",
       "      <td>100.000000</td>\n",
       "      <td>27.740000</td>\n",
       "      <td>1.000000</td>\n",
       "      <td>0.871000</td>\n",
       "      <td>8.780000</td>\n",
       "      <td>100.000000</td>\n",
       "      <td>12.126500</td>\n",
       "      <td>24.000000</td>\n",
       "      <td>711.000000</td>\n",
       "      <td>22.000000</td>\n",
       "      <td>396.900000</td>\n",
       "      <td>37.970000</td>\n",
       "      <td>50.000000</td>\n",
       "    </tr>\n",
       "  </tbody>\n",
       "</table>\n",
       "</div>"
      ],
      "text/plain": [
       "             crim          zn       indus        chas         nox          rm  \\\n",
       "count  506.000000  506.000000  506.000000  506.000000  506.000000  506.000000   \n",
       "mean     3.613524   11.363636   11.136779    0.069170    0.554695    6.284634   \n",
       "std      8.601545   23.322453    6.860353    0.253994    0.115878    0.702617   \n",
       "min      0.006320    0.000000    0.460000    0.000000    0.385000    3.561000   \n",
       "25%      0.082045    0.000000    5.190000    0.000000    0.449000    5.885500   \n",
       "50%      0.256510    0.000000    9.690000    0.000000    0.538000    6.208500   \n",
       "75%      3.677083   12.500000   18.100000    0.000000    0.624000    6.623500   \n",
       "max     88.976200  100.000000   27.740000    1.000000    0.871000    8.780000   \n",
       "\n",
       "              age         dis         rad         tax     ptratio       black  \\\n",
       "count  506.000000  506.000000  506.000000  506.000000  506.000000  506.000000   \n",
       "mean    68.574901    3.795043    9.549407  408.237154   18.455534  356.674032   \n",
       "std     28.148861    2.105710    8.707259  168.537116    2.164946   91.294864   \n",
       "min      2.900000    1.129600    1.000000  187.000000   12.600000    0.320000   \n",
       "25%     45.025000    2.100175    4.000000  279.000000   17.400000  375.377500   \n",
       "50%     77.500000    3.207450    5.000000  330.000000   19.050000  391.440000   \n",
       "75%     94.075000    5.188425   24.000000  666.000000   20.200000  396.225000   \n",
       "max    100.000000   12.126500   24.000000  711.000000   22.000000  396.900000   \n",
       "\n",
       "            lstat        medv  \n",
       "count  506.000000  506.000000  \n",
       "mean    12.653063   22.532806  \n",
       "std      7.141062    9.197104  \n",
       "min      1.730000    5.000000  \n",
       "25%      6.950000   17.025000  \n",
       "50%     11.360000   21.200000  \n",
       "75%     16.955000   25.000000  \n",
       "max     37.970000   50.000000  "
      ]
     },
     "execution_count": 5,
     "metadata": {},
     "output_type": "execute_result"
    }
   ],
   "source": [
    "df.describe()"
   ]
  },
  {
   "cell_type": "markdown",
   "id": "76d97abd",
   "metadata": {},
   "source": [
    "#### 2. Dividir la muestra (1 puntos)\n",
    "- Genere conjuntos de entrenamiento y pruebas con <code>train_test_split</code> .\n",
    "- Reserve un 33% de la muestra para el conjunto de pruebas.\n",
    "- Incluya una semilla pseudoaleatoria a su elección, esto lo puede hacer con el argumento random_state dentro del método <code>train_test_plit</code>."
   ]
  },
  {
   "cell_type": "code",
   "execution_count": 6,
   "id": "84710f84",
   "metadata": {},
   "outputs": [],
   "source": [
    "y_vec= df.loc[:, 'crim']\n",
    "X_mat = df.loc[:, [\"indus\",\"chas\",\"nox\",\"rm\",\"age\",\"dis\",\"rad\",\"tax\",\"ptratio\",\"black\",\"lstat\",\"medv\"]]"
   ]
  },
  {
   "cell_type": "code",
   "execution_count": 7,
   "id": "c7256b55",
   "metadata": {},
   "outputs": [],
   "source": [
    "from sklearn.model_selection import train_test_split\n",
    "X_train, X_test, y_train, y_test = train_test_split(X_mat, y_vec, test_size=.30, random_state=123123)\n",
    "X_train, X_test, y_train, y_test = train_test_split(X_mat, y_vec, test_size=.30)"
   ]
  },
  {
   "cell_type": "markdown",
   "id": "ec63bee0",
   "metadata": {},
   "source": [
    "#### 3. Generar modelos (2 puntos)\n",
    "- Ahora implementaremos dos versiones del modelo lineal:\n",
    "    - Con intercepto.\n",
    "    - Sin intercepto.\n",
    "- Cada versión debe generarse en un nuevo objeto inicializado.\n",
    "- Posteriormente se deben entrenar los modelos especificando la matriz y vector de entrenamiento.\n",
    "- Con los modelos entrenados, genere una predicción de la matriz de pruebas con el método <code>.predict().<code>"
   ]
  },
  {
   "cell_type": "code",
   "execution_count": 8,
   "id": "de38175a",
   "metadata": {},
   "outputs": [
    {
     "data": {
      "text/html": [
       "<style>#sk-container-id-1 {color: black;background-color: white;}#sk-container-id-1 pre{padding: 0;}#sk-container-id-1 div.sk-toggleable {background-color: white;}#sk-container-id-1 label.sk-toggleable__label {cursor: pointer;display: block;width: 100%;margin-bottom: 0;padding: 0.3em;box-sizing: border-box;text-align: center;}#sk-container-id-1 label.sk-toggleable__label-arrow:before {content: \"▸\";float: left;margin-right: 0.25em;color: #696969;}#sk-container-id-1 label.sk-toggleable__label-arrow:hover:before {color: black;}#sk-container-id-1 div.sk-estimator:hover label.sk-toggleable__label-arrow:before {color: black;}#sk-container-id-1 div.sk-toggleable__content {max-height: 0;max-width: 0;overflow: hidden;text-align: left;background-color: #f0f8ff;}#sk-container-id-1 div.sk-toggleable__content pre {margin: 0.2em;color: black;border-radius: 0.25em;background-color: #f0f8ff;}#sk-container-id-1 input.sk-toggleable__control:checked~div.sk-toggleable__content {max-height: 200px;max-width: 100%;overflow: auto;}#sk-container-id-1 input.sk-toggleable__control:checked~label.sk-toggleable__label-arrow:before {content: \"▾\";}#sk-container-id-1 div.sk-estimator input.sk-toggleable__control:checked~label.sk-toggleable__label {background-color: #d4ebff;}#sk-container-id-1 div.sk-label input.sk-toggleable__control:checked~label.sk-toggleable__label {background-color: #d4ebff;}#sk-container-id-1 input.sk-hidden--visually {border: 0;clip: rect(1px 1px 1px 1px);clip: rect(1px, 1px, 1px, 1px);height: 1px;margin: -1px;overflow: hidden;padding: 0;position: absolute;width: 1px;}#sk-container-id-1 div.sk-estimator {font-family: monospace;background-color: #f0f8ff;border: 1px dotted black;border-radius: 0.25em;box-sizing: border-box;margin-bottom: 0.5em;}#sk-container-id-1 div.sk-estimator:hover {background-color: #d4ebff;}#sk-container-id-1 div.sk-parallel-item::after {content: \"\";width: 100%;border-bottom: 1px solid gray;flex-grow: 1;}#sk-container-id-1 div.sk-label:hover label.sk-toggleable__label {background-color: #d4ebff;}#sk-container-id-1 div.sk-serial::before {content: \"\";position: absolute;border-left: 1px solid gray;box-sizing: border-box;top: 0;bottom: 0;left: 50%;z-index: 0;}#sk-container-id-1 div.sk-serial {display: flex;flex-direction: column;align-items: center;background-color: white;padding-right: 0.2em;padding-left: 0.2em;position: relative;}#sk-container-id-1 div.sk-item {position: relative;z-index: 1;}#sk-container-id-1 div.sk-parallel {display: flex;align-items: stretch;justify-content: center;background-color: white;position: relative;}#sk-container-id-1 div.sk-item::before, #sk-container-id-1 div.sk-parallel-item::before {content: \"\";position: absolute;border-left: 1px solid gray;box-sizing: border-box;top: 0;bottom: 0;left: 50%;z-index: -1;}#sk-container-id-1 div.sk-parallel-item {display: flex;flex-direction: column;z-index: 1;position: relative;background-color: white;}#sk-container-id-1 div.sk-parallel-item:first-child::after {align-self: flex-end;width: 50%;}#sk-container-id-1 div.sk-parallel-item:last-child::after {align-self: flex-start;width: 50%;}#sk-container-id-1 div.sk-parallel-item:only-child::after {width: 0;}#sk-container-id-1 div.sk-dashed-wrapped {border: 1px dashed gray;margin: 0 0.4em 0.5em 0.4em;box-sizing: border-box;padding-bottom: 0.4em;background-color: white;}#sk-container-id-1 div.sk-label label {font-family: monospace;font-weight: bold;display: inline-block;line-height: 1.2em;}#sk-container-id-1 div.sk-label-container {text-align: center;}#sk-container-id-1 div.sk-container {/* jupyter's `normalize.less` sets `[hidden] { display: none; }` but bootstrap.min.css set `[hidden] { display: none !important; }` so we also need the `!important` here to be able to override the default hidden behavior on the sphinx rendered scikit-learn.org. See: https://github.com/scikit-learn/scikit-learn/issues/21755 */display: inline-block !important;position: relative;}#sk-container-id-1 div.sk-text-repr-fallback {display: none;}</style><div id=\"sk-container-id-1\" class=\"sk-top-container\"><div class=\"sk-text-repr-fallback\"><pre>LinearRegression(fit_intercept=False)</pre><b>In a Jupyter environment, please rerun this cell to show the HTML representation or trust the notebook. <br />On GitHub, the HTML representation is unable to render, please try loading this page with nbviewer.org.</b></div><div class=\"sk-container\" hidden><div class=\"sk-item\"><div class=\"sk-estimator sk-toggleable\"><input class=\"sk-toggleable__control sk-hidden--visually\" id=\"sk-estimator-id-1\" type=\"checkbox\" checked><label for=\"sk-estimator-id-1\" class=\"sk-toggleable__label sk-toggleable__label-arrow\">LinearRegression</label><div class=\"sk-toggleable__content\"><pre>LinearRegression(fit_intercept=False)</pre></div></div></div></div></div>"
      ],
      "text/plain": [
       "LinearRegression(fit_intercept=False)"
      ]
     },
     "execution_count": 8,
     "metadata": {},
     "output_type": "execute_result"
    }
   ],
   "source": [
    "modelo_intercepto = linear_model.LinearRegression(fit_intercept=True)\n",
    "modelo_no_intercepto = linear_model.LinearRegression(fit_intercept=False)\n",
    "modelo_intercepto.fit(X_train, y_train)\n",
    "modelo_no_intercepto.fit(X_train, y_train)"
   ]
  },
  {
   "cell_type": "code",
   "execution_count": 9,
   "id": "e7ae7322",
   "metadata": {},
   "outputs": [
    {
     "name": "stdout",
     "output_type": "stream",
     "text": [
      "La cantidad de predicciones realizadas son:  152\n",
      "las predicciones son  [-1.04232444e+00 -1.11384482e+00 -4.32310207e-01 -1.97917841e+00\n",
      " -1.25767726e+00  1.40873369e+00  1.39532436e+01  6.35481772e-02\n",
      "  7.60923999e-01 -1.01029874e+00  1.10191445e+01 -2.19608487e+00\n",
      "  1.22291808e+00  1.54876481e+01  1.28209299e+00 -7.60216048e-01\n",
      "  1.36840445e+01 -1.38460589e-01 -4.22502139e-01  8.00863022e-01\n",
      "  1.29843513e+01  9.94594943e+00  1.47957854e+00  5.82978507e-01\n",
      " -1.19207217e+00  1.20617497e+01 -2.24331489e-02  1.02442495e+00\n",
      "  4.05023708e-01 -6.86309157e-01  8.70365378e-02 -2.29952068e+00\n",
      "  1.43545514e+01  1.05209735e+00  1.51768760e+00  2.13261301e+00\n",
      "  9.86264220e+00  2.46842816e+00 -1.42729595e+00 -1.00338247e+00\n",
      " -2.26952399e-01 -3.80063918e+00  1.04011167e+01 -8.43157143e-01\n",
      "  4.59864780e-01  3.16580686e+00  1.29092964e+01 -2.84461067e+00\n",
      "  6.27450727e-01  8.08867261e-01 -8.10232502e-02  1.54716630e+00\n",
      "  3.09600653e+00 -2.72429713e+00 -2.62801823e-01 -9.60156531e-01\n",
      " -4.98054725e-01 -1.72985593e+00 -5.12149181e-02 -2.57134393e+00\n",
      " -1.20080293e+00  1.33035758e+01  1.74640059e+00  2.08193382e-02\n",
      "  1.53628115e+00 -6.02653618e-01  1.97742478e-01  5.82207926e-01\n",
      "  3.08205012e-01  5.95831065e+00  1.04487415e+01 -2.61851644e+00\n",
      "  1.31802918e+01  1.33972148e+01 -2.92474811e-01 -1.97293872e+00\n",
      "  1.53467228e+01  8.72004915e+00 -9.53708278e-01  8.89291504e+00\n",
      "  4.65759405e+00  1.45198619e+01  1.81422377e+00 -1.19682667e+00\n",
      "  1.14883114e+01 -1.02635759e+00 -5.60562886e-01  2.31000661e-01\n",
      " -2.75156990e+00 -1.76783123e+00 -1.61642082e+00 -3.76154602e+00\n",
      "  2.64549751e+00 -1.16301548e+00  1.21397512e+01  2.59613280e+00\n",
      "  5.15106443e-01  2.77129324e+00 -1.01297906e-01 -3.69259351e+00\n",
      "  9.91969653e+00  1.30955006e+00 -1.36182963e+00 -2.07548979e+00\n",
      "  1.05186081e+01 -2.61478357e+00  1.91293364e+00 -3.15539483e-01\n",
      " -3.78512786e-01 -1.38986640e+00 -3.02240096e+00 -9.53177239e-03\n",
      " -1.59576783e+00  1.20186358e+01  9.05777881e+00  1.30718151e+00\n",
      "  1.31211295e+00  1.50596184e-01  9.05893053e+00 -2.29209040e-01\n",
      "  9.37676887e+00  2.96703533e+00 -1.35523109e+00  1.11112666e+00\n",
      " -1.84891795e+00  8.43919433e+00 -1.90636669e+00 -4.00106112e+00\n",
      "  6.58192573e-01 -2.26520835e-01  1.78607478e+00  1.26849969e+01\n",
      "  1.46694781e+00  9.57707063e+00  9.96642813e-01 -8.36551074e-01\n",
      " -5.32108245e-01  7.48295969e+00  8.08183178e-01 -3.69399340e-01\n",
      " -1.98768576e+00  1.61100448e+01  1.35098203e+01  1.67166700e+00\n",
      "  5.00099158e+00 -1.78419961e+00 -1.75936349e+00  8.42442385e+00\n",
      " -9.25167634e-01 -6.62872511e-02  9.14879965e-01  9.40325903e+00]\n"
     ]
    }
   ],
   "source": [
    "earn_yhat = modelo_intercepto.predict(X_test)\n",
    "print(\"La cantidad de predicciones realizadas son: \", len(earn_yhat))\n",
    "print(\"las predicciones son \", earn_yhat)"
   ]
  },
  {
   "cell_type": "code",
   "execution_count": 10,
   "id": "1bd0f534",
   "metadata": {},
   "outputs": [
    {
     "name": "stdout",
     "output_type": "stream",
     "text": [
      "La cantidad de predicciones realizadas son:  152\n",
      "las predicciones son  [-1.04232444e+00 -1.11384482e+00 -4.32310207e-01 -1.97917841e+00\n",
      " -1.25767726e+00  1.40873369e+00  1.39532436e+01  6.35481772e-02\n",
      "  7.60923999e-01 -1.01029874e+00  1.10191445e+01 -2.19608487e+00\n",
      "  1.22291808e+00  1.54876481e+01  1.28209299e+00 -7.60216048e-01\n",
      "  1.36840445e+01 -1.38460589e-01 -4.22502139e-01  8.00863022e-01\n",
      "  1.29843513e+01  9.94594943e+00  1.47957854e+00  5.82978507e-01\n",
      " -1.19207217e+00  1.20617497e+01 -2.24331489e-02  1.02442495e+00\n",
      "  4.05023708e-01 -6.86309157e-01  8.70365378e-02 -2.29952068e+00\n",
      "  1.43545514e+01  1.05209735e+00  1.51768760e+00  2.13261301e+00\n",
      "  9.86264220e+00  2.46842816e+00 -1.42729595e+00 -1.00338247e+00\n",
      " -2.26952399e-01 -3.80063918e+00  1.04011167e+01 -8.43157143e-01\n",
      "  4.59864780e-01  3.16580686e+00  1.29092964e+01 -2.84461067e+00\n",
      "  6.27450727e-01  8.08867261e-01 -8.10232502e-02  1.54716630e+00\n",
      "  3.09600653e+00 -2.72429713e+00 -2.62801823e-01 -9.60156531e-01\n",
      " -4.98054725e-01 -1.72985593e+00 -5.12149181e-02 -2.57134393e+00\n",
      " -1.20080293e+00  1.33035758e+01  1.74640059e+00  2.08193382e-02\n",
      "  1.53628115e+00 -6.02653618e-01  1.97742478e-01  5.82207926e-01\n",
      "  3.08205012e-01  5.95831065e+00  1.04487415e+01 -2.61851644e+00\n",
      "  1.31802918e+01  1.33972148e+01 -2.92474811e-01 -1.97293872e+00\n",
      "  1.53467228e+01  8.72004915e+00 -9.53708278e-01  8.89291504e+00\n",
      "  4.65759405e+00  1.45198619e+01  1.81422377e+00 -1.19682667e+00\n",
      "  1.14883114e+01 -1.02635759e+00 -5.60562886e-01  2.31000661e-01\n",
      " -2.75156990e+00 -1.76783123e+00 -1.61642082e+00 -3.76154602e+00\n",
      "  2.64549751e+00 -1.16301548e+00  1.21397512e+01  2.59613280e+00\n",
      "  5.15106443e-01  2.77129324e+00 -1.01297906e-01 -3.69259351e+00\n",
      "  9.91969653e+00  1.30955006e+00 -1.36182963e+00 -2.07548979e+00\n",
      "  1.05186081e+01 -2.61478357e+00  1.91293364e+00 -3.15539483e-01\n",
      " -3.78512786e-01 -1.38986640e+00 -3.02240096e+00 -9.53177239e-03\n",
      " -1.59576783e+00  1.20186358e+01  9.05777881e+00  1.30718151e+00\n",
      "  1.31211295e+00  1.50596184e-01  9.05893053e+00 -2.29209040e-01\n",
      "  9.37676887e+00  2.96703533e+00 -1.35523109e+00  1.11112666e+00\n",
      " -1.84891795e+00  8.43919433e+00 -1.90636669e+00 -4.00106112e+00\n",
      "  6.58192573e-01 -2.26520835e-01  1.78607478e+00  1.26849969e+01\n",
      "  1.46694781e+00  9.57707063e+00  9.96642813e-01 -8.36551074e-01\n",
      " -5.32108245e-01  7.48295969e+00  8.08183178e-01 -3.69399340e-01\n",
      " -1.98768576e+00  1.61100448e+01  1.35098203e+01  1.67166700e+00\n",
      "  5.00099158e+00 -1.78419961e+00 -1.75936349e+00  8.42442385e+00\n",
      " -9.25167634e-01 -6.62872511e-02  9.14879965e-01  9.40325903e+00]\n"
     ]
    }
   ],
   "source": [
    "earn_yhat_False = modelo_no_intercepto.predict(X_test)\n",
    "print(\"La cantidad de predicciones realizadas son: \", len(earn_yhat))\n",
    "print(\"las predicciones son \", earn_yhat)"
   ]
  },
  {
   "cell_type": "markdown",
   "id": "5c2de638",
   "metadata": {},
   "source": [
    "#### 4. Obtención de métricas (1 puntos)\n",
    "- Ahora generaremos una función llamada <code>report_scores</code> que ingrese como argumentos el vector de datos predichos y el vector de datos por validar.\n",
    "- La función debe imprimir las métricas del Error Cuadrático Promedio y R2.\n",
    "- Reporte las métricas para ambos modelos. En base a ello, seleccione el mejor modelo."
   ]
  },
  {
   "cell_type": "code",
   "execution_count": 11,
   "id": "2710a505",
   "metadata": {},
   "outputs": [
    {
     "name": "stdout",
     "output_type": "stream",
     "text": [
      "Mean Squared Error:  87.0\n",
      "R-cuadrado:  0.32\n",
      "Mean Squared Error:  87.7\n",
      "R-cuadrado:  0.32\n"
     ]
    }
   ],
   "source": [
    "def report_scores(predicciones, validar):\n",
    "    m1_mse = mean_squared_error(validar, predicciones).round(1)\n",
    "    m1_r2 = r2_score(validar, predicciones).round(2)\n",
    "    print(\"Mean Squared Error: \", m1_mse)\n",
    "    print(\"R-cuadrado: \", m1_r2)\n",
    "report_scores(earn_yhat, y_test)\n",
    "report_scores(earn_yhat_False, y_test)"
   ]
  },
  {
   "cell_type": "code",
   "execution_count": 25,
   "id": "58671982",
   "metadata": {},
   "outputs": [],
   "source": [
    "#for i in df.columns:\n",
    "#    print(i)"
   ]
  },
  {
   "cell_type": "markdown",
   "id": "3ba3e36e",
   "metadata": {},
   "source": [
    "#### 5. Refactorización del modelo (1 puntos)\n",
    "- Genere una función llamada <code>fetch_features </code>que ingrese como argumentos la base de datos y el nombre del vector objetivo. El nombre del vector debe ser <code>medv</code> por defecto.\n",
    "- La función debe retornar una lista con las correlaciones entre cada atributo y el vector objetivo y su nombre.\n",
    "- Reporte brevemente cuales son los 6 atributos con una mayor correlación absoluta con <code>medv</code> (de mayor a menor correlación"
   ]
  },
  {
   "cell_type": "code",
   "execution_count": 13,
   "id": "0fd507df",
   "metadata": {},
   "outputs": [
    {
     "name": "stdout",
     "output_type": "stream",
     "text": [
      "           abs_corr\n",
      "attribute          \n",
      "lstat      0.737663\n",
      "rm         0.695360\n",
      "ptratio    0.507787\n",
      "indus      0.483725\n",
      "tax        0.468536\n",
      "nox        0.427321\n",
      "crim       0.388305\n",
      "rad        0.381626\n",
      "age        0.376955\n",
      "zn         0.360445\n",
      "black      0.333461\n",
      "dis        0.249929\n",
      "chas       0.175260\n"
     ]
    }
   ],
   "source": [
    "def fetch_features(df, nombre_vector_objetivo=\"medv\"):\n",
    "    abs_pearson_r = []\n",
    "    attr_name = []\n",
    "    for col in df.columns:\n",
    "        if col != nombre_vector_objetivo:\n",
    "            attr_name.append(col)\n",
    "            abs_pearson_r.append(abs(df[col].corr(df[nombre_vector_objetivo])))\n",
    "    features = pd.DataFrame({'attribute': attr_name,'abs_corr':abs_pearson_r})\n",
    "    features = features.set_index('attribute')\n",
    "    print(features.sort_values(by=['abs_corr'], ascending=False))\n",
    "fetch_features(df)"
   ]
  },
  {
   "cell_type": "code",
   "execution_count": 14,
   "id": "cda5633e",
   "metadata": {},
   "outputs": [],
   "source": [
    "atributos = [\"lstat\", \"rm\", \"ptratio\", \"indus\", \"tax\", \"nox\"]\n",
    "y_vec= df.loc[:, 'medv']\n",
    "X_mat = df.loc[:, atributos]\n",
    "X_train, X_test, y_train, y_test = train_test_split(X_mat, y_vec, test_size=.33, random_state=123123)"
   ]
  },
  {
   "cell_type": "code",
   "execution_count": 15,
   "id": "231221b4",
   "metadata": {},
   "outputs": [
    {
     "data": {
      "text/html": [
       "<style>#sk-container-id-2 {color: black;background-color: white;}#sk-container-id-2 pre{padding: 0;}#sk-container-id-2 div.sk-toggleable {background-color: white;}#sk-container-id-2 label.sk-toggleable__label {cursor: pointer;display: block;width: 100%;margin-bottom: 0;padding: 0.3em;box-sizing: border-box;text-align: center;}#sk-container-id-2 label.sk-toggleable__label-arrow:before {content: \"▸\";float: left;margin-right: 0.25em;color: #696969;}#sk-container-id-2 label.sk-toggleable__label-arrow:hover:before {color: black;}#sk-container-id-2 div.sk-estimator:hover label.sk-toggleable__label-arrow:before {color: black;}#sk-container-id-2 div.sk-toggleable__content {max-height: 0;max-width: 0;overflow: hidden;text-align: left;background-color: #f0f8ff;}#sk-container-id-2 div.sk-toggleable__content pre {margin: 0.2em;color: black;border-radius: 0.25em;background-color: #f0f8ff;}#sk-container-id-2 input.sk-toggleable__control:checked~div.sk-toggleable__content {max-height: 200px;max-width: 100%;overflow: auto;}#sk-container-id-2 input.sk-toggleable__control:checked~label.sk-toggleable__label-arrow:before {content: \"▾\";}#sk-container-id-2 div.sk-estimator input.sk-toggleable__control:checked~label.sk-toggleable__label {background-color: #d4ebff;}#sk-container-id-2 div.sk-label input.sk-toggleable__control:checked~label.sk-toggleable__label {background-color: #d4ebff;}#sk-container-id-2 input.sk-hidden--visually {border: 0;clip: rect(1px 1px 1px 1px);clip: rect(1px, 1px, 1px, 1px);height: 1px;margin: -1px;overflow: hidden;padding: 0;position: absolute;width: 1px;}#sk-container-id-2 div.sk-estimator {font-family: monospace;background-color: #f0f8ff;border: 1px dotted black;border-radius: 0.25em;box-sizing: border-box;margin-bottom: 0.5em;}#sk-container-id-2 div.sk-estimator:hover {background-color: #d4ebff;}#sk-container-id-2 div.sk-parallel-item::after {content: \"\";width: 100%;border-bottom: 1px solid gray;flex-grow: 1;}#sk-container-id-2 div.sk-label:hover label.sk-toggleable__label {background-color: #d4ebff;}#sk-container-id-2 div.sk-serial::before {content: \"\";position: absolute;border-left: 1px solid gray;box-sizing: border-box;top: 0;bottom: 0;left: 50%;z-index: 0;}#sk-container-id-2 div.sk-serial {display: flex;flex-direction: column;align-items: center;background-color: white;padding-right: 0.2em;padding-left: 0.2em;position: relative;}#sk-container-id-2 div.sk-item {position: relative;z-index: 1;}#sk-container-id-2 div.sk-parallel {display: flex;align-items: stretch;justify-content: center;background-color: white;position: relative;}#sk-container-id-2 div.sk-item::before, #sk-container-id-2 div.sk-parallel-item::before {content: \"\";position: absolute;border-left: 1px solid gray;box-sizing: border-box;top: 0;bottom: 0;left: 50%;z-index: -1;}#sk-container-id-2 div.sk-parallel-item {display: flex;flex-direction: column;z-index: 1;position: relative;background-color: white;}#sk-container-id-2 div.sk-parallel-item:first-child::after {align-self: flex-end;width: 50%;}#sk-container-id-2 div.sk-parallel-item:last-child::after {align-self: flex-start;width: 50%;}#sk-container-id-2 div.sk-parallel-item:only-child::after {width: 0;}#sk-container-id-2 div.sk-dashed-wrapped {border: 1px dashed gray;margin: 0 0.4em 0.5em 0.4em;box-sizing: border-box;padding-bottom: 0.4em;background-color: white;}#sk-container-id-2 div.sk-label label {font-family: monospace;font-weight: bold;display: inline-block;line-height: 1.2em;}#sk-container-id-2 div.sk-label-container {text-align: center;}#sk-container-id-2 div.sk-container {/* jupyter's `normalize.less` sets `[hidden] { display: none; }` but bootstrap.min.css set `[hidden] { display: none !important; }` so we also need the `!important` here to be able to override the default hidden behavior on the sphinx rendered scikit-learn.org. See: https://github.com/scikit-learn/scikit-learn/issues/21755 */display: inline-block !important;position: relative;}#sk-container-id-2 div.sk-text-repr-fallback {display: none;}</style><div id=\"sk-container-id-2\" class=\"sk-top-container\"><div class=\"sk-text-repr-fallback\"><pre>LinearRegression()</pre><b>In a Jupyter environment, please rerun this cell to show the HTML representation or trust the notebook. <br />On GitHub, the HTML representation is unable to render, please try loading this page with nbviewer.org.</b></div><div class=\"sk-container\" hidden><div class=\"sk-item\"><div class=\"sk-estimator sk-toggleable\"><input class=\"sk-toggleable__control sk-hidden--visually\" id=\"sk-estimator-id-2\" type=\"checkbox\" checked><label for=\"sk-estimator-id-2\" class=\"sk-toggleable__label sk-toggleable__label-arrow\">LinearRegression</label><div class=\"sk-toggleable__content\"><pre>LinearRegression()</pre></div></div></div></div></div>"
      ],
      "text/plain": [
       "LinearRegression()"
      ]
     },
     "execution_count": 15,
     "metadata": {},
     "output_type": "execute_result"
    }
   ],
   "source": [
    "modelo_no_intercepto = linear_model.LinearRegression(fit_intercept=True)\n",
    "modelo_intercepto.fit(X_train, y_train)"
   ]
  },
  {
   "cell_type": "code",
   "execution_count": 16,
   "id": "9a982b06",
   "metadata": {},
   "outputs": [
    {
     "name": "stdout",
     "output_type": "stream",
     "text": [
      "Mean Squared Error:  29.1\n",
      "R-cuadrado:  0.69\n"
     ]
    }
   ],
   "source": [
    "earn_yhat = modelo_intercepto.predict(X_test)\n",
    "report_scores(earn_yhat, y_test)"
   ]
  },
  {
   "cell_type": "code",
   "execution_count": 17,
   "id": "80645682",
   "metadata": {},
   "outputs": [],
   "source": [
    "worst_neighbor = np.array([37.9, 12.6, 3.5, 27.7, 187, 0.87]).reshape(1,-1)\n",
    "best_neighbor = np.array([1.73, 22, 8.7, 0.46, 711, 0.38]).reshape(1,-1)"
   ]
  },
  {
   "cell_type": "code",
   "execution_count": 18,
   "id": "6311c2db",
   "metadata": {},
   "outputs": [],
   "source": [
    "worst_neighbor_df = pd.DataFrame(worst_neighbor, columns=atributos)\n",
    "best_neighbor_df =pd.DataFrame(best_neighbor, columns=atributos)"
   ]
  },
  {
   "cell_type": "code",
   "execution_count": 19,
   "id": "9bf5df08",
   "metadata": {},
   "outputs": [
    {
     "data": {
      "text/html": [
       "<div>\n",
       "<style scoped>\n",
       "    .dataframe tbody tr th:only-of-type {\n",
       "        vertical-align: middle;\n",
       "    }\n",
       "\n",
       "    .dataframe tbody tr th {\n",
       "        vertical-align: top;\n",
       "    }\n",
       "\n",
       "    .dataframe thead th {\n",
       "        text-align: right;\n",
       "    }\n",
       "</style>\n",
       "<table border=\"1\" class=\"dataframe\">\n",
       "  <thead>\n",
       "    <tr style=\"text-align: right;\">\n",
       "      <th></th>\n",
       "      <th>lstat</th>\n",
       "      <th>rm</th>\n",
       "      <th>ptratio</th>\n",
       "      <th>indus</th>\n",
       "      <th>tax</th>\n",
       "      <th>nox</th>\n",
       "    </tr>\n",
       "  </thead>\n",
       "  <tbody>\n",
       "    <tr>\n",
       "      <th>0</th>\n",
       "      <td>37.9</td>\n",
       "      <td>12.6</td>\n",
       "      <td>3.5</td>\n",
       "      <td>27.7</td>\n",
       "      <td>187.0</td>\n",
       "      <td>0.87</td>\n",
       "    </tr>\n",
       "  </tbody>\n",
       "</table>\n",
       "</div>"
      ],
      "text/plain": [
       "   lstat    rm  ptratio  indus    tax   nox\n",
       "0   37.9  12.6      3.5   27.7  187.0  0.87"
      ]
     },
     "execution_count": 19,
     "metadata": {},
     "output_type": "execute_result"
    }
   ],
   "source": [
    "worst_neighbor_df"
   ]
  },
  {
   "cell_type": "code",
   "execution_count": 20,
   "id": "9139a1d9",
   "metadata": {},
   "outputs": [
    {
     "data": {
      "text/html": [
       "<div>\n",
       "<style scoped>\n",
       "    .dataframe tbody tr th:only-of-type {\n",
       "        vertical-align: middle;\n",
       "    }\n",
       "\n",
       "    .dataframe tbody tr th {\n",
       "        vertical-align: top;\n",
       "    }\n",
       "\n",
       "    .dataframe thead th {\n",
       "        text-align: right;\n",
       "    }\n",
       "</style>\n",
       "<table border=\"1\" class=\"dataframe\">\n",
       "  <thead>\n",
       "    <tr style=\"text-align: right;\">\n",
       "      <th></th>\n",
       "      <th>lstat</th>\n",
       "      <th>rm</th>\n",
       "      <th>ptratio</th>\n",
       "      <th>indus</th>\n",
       "      <th>tax</th>\n",
       "      <th>nox</th>\n",
       "    </tr>\n",
       "  </thead>\n",
       "  <tbody>\n",
       "    <tr>\n",
       "      <th>0</th>\n",
       "      <td>1.73</td>\n",
       "      <td>22.0</td>\n",
       "      <td>8.7</td>\n",
       "      <td>0.46</td>\n",
       "      <td>711.0</td>\n",
       "      <td>0.38</td>\n",
       "    </tr>\n",
       "  </tbody>\n",
       "</table>\n",
       "</div>"
      ],
      "text/plain": [
       "   lstat    rm  ptratio  indus    tax   nox\n",
       "0   1.73  22.0      8.7   0.46  711.0  0.38"
      ]
     },
     "execution_count": 20,
     "metadata": {},
     "output_type": "execute_result"
    }
   ],
   "source": [
    "best_neighbor_df"
   ]
  },
  {
   "cell_type": "code",
   "execution_count": 21,
   "id": "4d0bb9a8",
   "metadata": {},
   "outputs": [
    {
     "name": "stderr",
     "output_type": "stream",
     "text": [
      "C:\\Users\\Antonio\\AppData\\Roaming\\Python\\Python39\\site-packages\\sklearn\\base.py:450: UserWarning: X does not have valid feature names, but LinearRegression was fitted with feature names\n",
      "  warnings.warn(\n"
     ]
    }
   ],
   "source": [
    "modelo_worst_neighbor = modelo_intercepto.predict(worst_neighbor)"
   ]
  },
  {
   "cell_type": "code",
   "execution_count": 22,
   "id": "eb6d8a4a",
   "metadata": {},
   "outputs": [
    {
     "data": {
      "text/plain": [
       "array([51.3753738])"
      ]
     },
     "execution_count": 22,
     "metadata": {},
     "output_type": "execute_result"
    }
   ],
   "source": [
    "modelo_worst_neighbor"
   ]
  },
  {
   "cell_type": "code",
   "execution_count": 23,
   "id": "8a06094a",
   "metadata": {},
   "outputs": [
    {
     "name": "stderr",
     "output_type": "stream",
     "text": [
      "C:\\Users\\Antonio\\AppData\\Roaming\\Python\\Python39\\site-packages\\sklearn\\base.py:450: UserWarning: X does not have valid feature names, but LinearRegression was fitted with feature names\n",
      "  warnings.warn(\n"
     ]
    }
   ],
   "source": [
    "modelo_best_neighbor = modelo_intercepto.predict(best_neighbor)"
   ]
  },
  {
   "cell_type": "code",
   "execution_count": 24,
   "id": "f776c12c",
   "metadata": {},
   "outputs": [
    {
     "data": {
      "text/plain": [
       "array([109.99080032])"
      ]
     },
     "execution_count": 24,
     "metadata": {},
     "output_type": "execute_result"
    }
   ],
   "source": [
    "modelo_best_neighbor"
   ]
  }
 ],
 "metadata": {
  "kernelspec": {
   "display_name": "Python 3.9.7 64-bit",
   "language": "python",
   "name": "python3"
  },
  "language_info": {
   "codemirror_mode": {
    "name": "ipython",
    "version": 3
   },
   "file_extension": ".py",
   "mimetype": "text/x-python",
   "name": "python",
   "nbconvert_exporter": "python",
   "pygments_lexer": "ipython3",
   "version": "3.9.7"
  },
  "vscode": {
   "interpreter": {
    "hash": "11938c6bc6919ae2720b4d5011047913343b08a43b18698fd82dedb0d4417594"
   }
  }
 },
 "nbformat": 4,
 "nbformat_minor": 5
}
