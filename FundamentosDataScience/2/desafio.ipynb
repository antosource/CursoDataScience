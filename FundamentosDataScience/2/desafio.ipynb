{
 "cells": [
  {
   "cell_type": "code",
   "execution_count": 20,
   "metadata": {},
   "outputs": [
    {
     "data": {
      "text/html": [
       "<div>\n",
       "<style scoped>\n",
       "    .dataframe tbody tr th:only-of-type {\n",
       "        vertical-align: middle;\n",
       "    }\n",
       "\n",
       "    .dataframe tbody tr th {\n",
       "        vertical-align: top;\n",
       "    }\n",
       "\n",
       "    .dataframe thead th {\n",
       "        text-align: right;\n",
       "    }\n",
       "</style>\n",
       "<table border=\"1\" class=\"dataframe\">\n",
       "  <thead>\n",
       "    <tr style=\"text-align: right;\">\n",
       "      <th></th>\n",
       "      <th>team</th>\n",
       "      <th>continent</th>\n",
       "      <th>group</th>\n",
       "      <th>group_pos</th>\n",
       "      <th>cantidad_juegos</th>\n",
       "      <th>juegos_ganados</th>\n",
       "      <th>juegos_empatados</th>\n",
       "      <th>juegos_perdidos</th>\n",
       "      <th>goles_favor</th>\n",
       "      <th>goles_contra</th>\n",
       "      <th>goles_diferencia</th>\n",
       "      <th>puntos</th>\n",
       "      <th>clasificado</th>\n",
       "    </tr>\n",
       "  </thead>\n",
       "  <tbody>\n",
       "    <tr>\n",
       "      <th>0</th>\n",
       "      <td>Brazil</td>\n",
       "      <td>southamerica</td>\n",
       "      <td>A</td>\n",
       "      <td>1</td>\n",
       "      <td>3</td>\n",
       "      <td>2</td>\n",
       "      <td>1</td>\n",
       "      <td>0</td>\n",
       "      <td>7</td>\n",
       "      <td>2</td>\n",
       "      <td>5</td>\n",
       "      <td>7</td>\n",
       "      <td>1</td>\n",
       "    </tr>\n",
       "    <tr>\n",
       "      <th>1</th>\n",
       "      <td>Mexico</td>\n",
       "      <td>northamerica</td>\n",
       "      <td>A</td>\n",
       "      <td>2</td>\n",
       "      <td>3</td>\n",
       "      <td>2</td>\n",
       "      <td>1</td>\n",
       "      <td>0</td>\n",
       "      <td>4</td>\n",
       "      <td>1</td>\n",
       "      <td>3</td>\n",
       "      <td>7</td>\n",
       "      <td>1</td>\n",
       "    </tr>\n",
       "    <tr>\n",
       "      <th>2</th>\n",
       "      <td>Croatia</td>\n",
       "      <td>europe</td>\n",
       "      <td>A</td>\n",
       "      <td>3</td>\n",
       "      <td>3</td>\n",
       "      <td>1</td>\n",
       "      <td>0</td>\n",
       "      <td>2</td>\n",
       "      <td>6</td>\n",
       "      <td>6</td>\n",
       "      <td>0</td>\n",
       "      <td>3</td>\n",
       "      <td>0</td>\n",
       "    </tr>\n",
       "    <tr>\n",
       "      <th>3</th>\n",
       "      <td>Cameroon</td>\n",
       "      <td>africa</td>\n",
       "      <td>A</td>\n",
       "      <td>4</td>\n",
       "      <td>3</td>\n",
       "      <td>0</td>\n",
       "      <td>0</td>\n",
       "      <td>3</td>\n",
       "      <td>1</td>\n",
       "      <td>9</td>\n",
       "      <td>−8</td>\n",
       "      <td>0</td>\n",
       "      <td>0</td>\n",
       "    </tr>\n",
       "    <tr>\n",
       "      <th>4</th>\n",
       "      <td>Netherlands</td>\n",
       "      <td>europe</td>\n",
       "      <td>B</td>\n",
       "      <td>1</td>\n",
       "      <td>3</td>\n",
       "      <td>3</td>\n",
       "      <td>0</td>\n",
       "      <td>0</td>\n",
       "      <td>10</td>\n",
       "      <td>3</td>\n",
       "      <td>7</td>\n",
       "      <td>9</td>\n",
       "      <td>1</td>\n",
       "    </tr>\n",
       "  </tbody>\n",
       "</table>\n",
       "</div>"
      ],
      "text/plain": [
       "          team     continent group  group_pos  cantidad_juegos  \\\n",
       "0       Brazil  southamerica     A          1                3   \n",
       "1       Mexico  northamerica     A          2                3   \n",
       "2      Croatia        europe     A          3                3   \n",
       "3     Cameroon        africa     A          4                3   \n",
       "4  Netherlands        europe     B          1                3   \n",
       "\n",
       "   juegos_ganados  juegos_empatados  juegos_perdidos  goles_favor  \\\n",
       "0               2                 1                0            7   \n",
       "1               2                 1                0            4   \n",
       "2               1                 0                2            6   \n",
       "3               0                 0                3            1   \n",
       "4               3                 0                0           10   \n",
       "\n",
       "   goles_contra goles_diferencia  puntos  clasificado  \n",
       "0             2                5       7            1  \n",
       "1             1                3       7            1  \n",
       "2             6                0       3            0  \n",
       "3             9               −8       0            0  \n",
       "4             3                7       9            1  "
      ]
     },
     "execution_count": 20,
     "metadata": {},
     "output_type": "execute_result"
    }
   ],
   "source": [
    "import pandas as pd\n",
    "import numpy as np\n",
    "\n",
    "df = pd.read_csv('worldcup2014.csv')\n",
    "df.head(5)"
   ]
  },
  {
   "cell_type": "markdown",
   "metadata": {},
   "source": [
    "#### 2. Frecuencia de continent: utilizando value_counts responde lo siguiente (1 punto)\n",
    "- ● ¿Cuál es el continente con una mayor presencia en la muestra?\n",
    "- ● ¿Cuál es la probabilidad de elegir un equipo asiático al azar?\n",
    "- ● ¿Cuál es la probabilidad de elegir un equipo africano al azar?"
   ]
  },
  {
   "cell_type": "code",
   "execution_count": 21,
   "metadata": {},
   "outputs": [
    {
     "name": "stdout",
     "output_type": "stream",
     "text": [
      "europe          13\n",
      "southamerica     6\n",
      "africa           5\n",
      "northamerica     4\n",
      "asia             4\n",
      "Name: continent, dtype: int64\n",
      "\n",
      "El continente 'europe'es el con mas presencia (13).\n",
      "'asia' tiene un 12.5% de probabilidad\n",
      "'africa' tiene un 15.625% de probabilidad\n"
     ]
    }
   ],
   "source": [
    "print(df['continent'].value_counts())\n",
    "print()\n",
    "#print(df['continent'].value_counts(normalize=True))\n",
    "\n",
    "asia=(len((df[df['continent']=='asia']))/len(df))*100\n",
    "africa=len((df[df['continent']=='africa']))/len(df)*100\n",
    "\n",
    "print(f\"El continente '{df['continent'].value_counts().idxmax()}'es el con mas presencia ({df['continent'].value_counts().max()}).\")\n",
    "print(f\"'asia' tiene un {asia}% de probabilidad\")\n",
    "print(f\"'africa' tiene un {africa}% de probabilidad\")"
   ]
  },
  {
   "cell_type": "markdown",
   "metadata": {},
   "source": [
    "#### 3. Generación de un subconjunto de datos: por cada continente, genere un nuevo objeto que almacene sólo las observaciones del continente.(1 punto)\n"
   ]
  },
  {
   "cell_type": "code",
   "execution_count": 22,
   "metadata": {},
   "outputs": [],
   "source": [
    "europe = df[df['continent'] == 'europe'].reset_index()\n",
    "southamerica = df[df['continent'] == 'southamerica'].reset_index()\n",
    "africa = df[df['continent'] == 'africa'].reset_index()\n",
    "northamerica = df[df['continent'] == 'northamerica'].reset_index()\n",
    "asia = df[df['continent'] == 'asia'].reset_index()"
   ]
  },
  {
   "cell_type": "markdown",
   "metadata": {},
   "source": [
    "#### 4. Probabilidad de clasificación a la siguiente ronda: calcula la probabilidad de que un país pase a la siguiente ronda (clasifique) por continente.(1 punto)\n",
    "- ● ¿Cuál es la probabilidad de que un país asiático pase a la siguiente ronda?\n",
    "> 0.0%\n",
    "- ● ¿Cuáles son los dos continentes con la mayor probabilidad de clasificar?\n",
    "> Sudamerica y Norteamerica\n",
    "- ● ¿Cuál es la probabilidad de que un país europeo no clasifique?\n",
    ">54%"
   ]
  },
  {
   "cell_type": "code",
   "execution_count": 23,
   "metadata": {},
   "outputs": [
    {
     "name": "stdout",
     "output_type": "stream",
     "text": [
      "Pr(pasar|europe)= 0.46\n",
      "Pr(pasar|southamerica)= 0.83\n",
      "Pr(pasar|africa)= 0.4\n",
      "Pr(pasar|northamerica)= 0.75\n",
      "Pr(pasar|asia)= 0.0\n"
     ]
    }
   ],
   "source": [
    "def pp_conti(df):\n",
    "    # usando teorema de bayes pr(pasar|continente)= Pr(pasar y continente) / Pr(continente)\n",
    "    prob = df.clasificado.sum()/df.shape[0]\n",
    "    print(f\"Pr(pasar|{df.continent.iloc[0]})= {np.round(prob,2)}\")\n",
    "\n",
    "subconj = [europe,southamerica,africa,northamerica,asia]\n",
    "for i in subconj:\n",
    "    pp_conti(i)\n"
   ]
  },
  {
   "cell_type": "markdown",
   "metadata": {},
   "source": [
    "#### 5. Probabilidad de victoria y derrota: se pide utilizar value_counts para calcular la probabilidad de que un continente contenga países con o sin victorias. Para ello crea una columna adicional llamada 'ha_ganado' que contenga un 0 si es que un país no tiene juegos ganados y un 1 si es que ha ganado al menos un juego.\n"
   ]
  },
  {
   "cell_type": "code",
   "execution_count": 24,
   "metadata": {},
   "outputs": [
    {
     "name": "stdout",
     "output_type": "stream",
     "text": [
      "europe\n",
      "1    0.846154\n",
      "0    0.153846\n",
      "Name: ha_ganado, dtype: float64 \n",
      "\n",
      "southamerica\n",
      "1    1.0\n",
      "Name: ha_ganado, dtype: float64 \n",
      "\n",
      "africa\n",
      "1    0.6\n",
      "0    0.4\n",
      "Name: ha_ganado, dtype: float64 \n",
      "\n",
      "northamerica\n",
      "1    0.75\n",
      "0    0.25\n",
      "Name: ha_ganado, dtype: float64 \n",
      "\n",
      "asia\n",
      "0    1.0\n",
      "Name: ha_ganado, dtype: float64 \n",
      "\n"
     ]
    }
   ],
   "source": [
    "for i in subconj:\n",
    "    i['ha_ganado'] = np.where(i['juegos_ganados']>0,1,0)\n",
    "    print(i.continent.iloc[0])\n",
    "    print(i['ha_ganado'].value_counts(normalize=True),'\\n')"
   ]
  },
  {
   "cell_type": "markdown",
   "metadata": {},
   "source": [
    "#### Con base en el resultado del procedimiento recién descrito, responda lo siguiente:\n",
    "- A. ¿Qué continente tiene la mayor probabilidad de tener países con al menos 1\n",
    "victoria?  \n",
    ">Sudamerica\n",
    "- B. ¿Qué continente tiene un nivel similar entre países que tienen o no tienen\n",
    "victorias?\n",
    ">Africa"
   ]
  },
  {
   "cell_type": "markdown",
   "metadata": {},
   "source": [
    "#### Reformule el código para juegos perdidos y analice los continentes con mayor probabilidad de tener países sin juegos perdidos."
   ]
  },
  {
   "cell_type": "code",
   "execution_count": 26,
   "metadata": {},
   "outputs": [
    {
     "name": "stdout",
     "output_type": "stream",
     "text": [
      "europe\n",
      "1    0.692308\n",
      "0    0.307692\n",
      "Name: ha_perdido, dtype: float64 \n",
      "\n",
      "southamerica\n",
      "0    0.5\n",
      "1    0.5\n",
      "Name: ha_perdido, dtype: float64 \n",
      "\n",
      "africa\n",
      "1    1.0\n",
      "Name: ha_perdido, dtype: float64 \n",
      "\n",
      "northamerica\n",
      "0    0.5\n",
      "1    0.5\n",
      "Name: ha_perdido, dtype: float64 \n",
      "\n",
      "asia\n",
      "1    1.0\n",
      "Name: ha_perdido, dtype: float64 \n",
      "\n"
     ]
    }
   ],
   "source": [
    "for i in subconj:\n",
    "    i['ha_perdido'] = np.where(i['juegos_perdidos']>0,1,0)\n",
    "    print(i.continent.iloc[0])\n",
    "    print(i['ha_perdido'].value_counts(normalize=True),'\\n')"
   ]
  }
 ],
 "metadata": {
  "interpreter": {
   "hash": "31f2aee4e71d21fbe5cf8b01ff0e069b9275f58929596ceb00d14d90e3e16cd6"
  },
  "kernelspec": {
   "display_name": "Python 3.8.10 64-bit",
   "language": "python",
   "name": "python3"
  },
  "language_info": {
   "codemirror_mode": {
    "name": "ipython",
    "version": 3
   },
   "file_extension": ".py",
   "mimetype": "text/x-python",
   "name": "python",
   "nbconvert_exporter": "python",
   "pygments_lexer": "ipython3",
   "version": "3.8.10"
  },
  "orig_nbformat": 4
 },
 "nbformat": 4,
 "nbformat_minor": 2
}
