{
 "cells": [
  {
   "cell_type": "markdown",
   "metadata": {},
   "source": [
    "### Hito1 para Determinantes del ingreso\n",
    "*\"Desarrollo de un modelo predictivo sobre la probabilidad que un individuo presente salarios por sobre o bajo los 50.000 dólares anuales, en base a una serie de atributos sociodemográficos.\"*\n"
   ]
  },
  {
   "cell_type": "markdown",
   "metadata": {},
   "source": [
    "### Preliminares\n",
    "\n",
    "#### Tipo de Problema a resolver: <code>**Clasificación.**</code>\n",
    "- Es de clasificación debido a que la variable objetivo solo puede tener dos valores, (mayor o igual a 50.000 USD o menor a 50.000 USD anuales) en funcion de los ingresos anuales del individuo analizado. Por lo tanto el Modelo debe definir si un individuo gana más o menos de 50.000 dólares anuales.\n",
    "\n",
    "- Variable objetivo: <code>**income**</code>, que es una variable categórica.\n",
    "\n",
    "#### Medicion de desempeño:\n",
    "\n",
    "- Con las métricas de <code> precision y recall </code> se realizará la medición de desempeño.\n",
    "\n",
    "- Con el resultado de estas metricas se calculará el <code>F1-score</code>, para asi analizar como se esta interpretando el modelo.\n",
    "\n",
    "- Se utilizará tambien <code>la curva de probabilidad roc</code>, para ver que tan bien nuestro modelo diferencia las clases estimadas (comparando falsos positivos v/s verdaderos positivos)."
   ]
  },
  {
   "cell_type": "markdown",
   "metadata": {},
   "source": [
    "### Aspectos computacionales\n",
    "\n",
    "Las librerias utilizadas son:\n",
    "\n",
    "- numpy\n",
    "- pandas\n",
    "- matplotlib\n",
    "- seaborn\n",
    "- scipy\n",
    "- statsmodels\n",
    "- sklearn\n",
    "- warnings\n",
    "\n",
    "Las librerias propias a utilizar son:\n",
    "\n",
    "- calidad_datos2\n",
    "- graficos\n",
    "\n",
    "#### Métricas de evaluación, preprocesamiento y recodificación de datos.\n",
    "\n",
    "Se hará un análisis exploratorio de las variables para realizar el preprocesamiento:\n",
    "\n",
    "- Se eliminaran del modelo los valores nulos, perdidos y caracteres incorrectos o anomalos, tambien se cambiaran los valores en texto a numeros. Tanto antes como despues de esta depuracion se utilizará <code>calidad_datos2 </code>que nos permite tener una perspectiva global.\n",
    "\n",
    "- Se cambiara el nombre de las clases <code>occupation, workclass, education, marital-status, native-country e income</code>; siguiendo la nomenclatura indicada.\n",
    "\n",
    "- Se realizara una<code> exploración de correlaciones</code> entre atributos y variable objetivo. Para considerar la eventual exclusion del modelo dependendiendo si se correlacionan fuertemente.\n",
    "\n",
    "- Transformación de variables categóricas aplicando dummies: <code>pd.get_dummies(drop_first=True)</code>.\n",
    "\n",
    "- La <code>variable objetivo será transformada a binaria</code>, con un 1 si el salario anual es mayor a 50 mil dólares, y 0 en cualquiera de los otros casos.\n",
    "\n",
    "- Tambien se explorarán las variables numéricas para evaluar su estandarización de escalas (usando <code>StandardScaler</code> de la librería <code>Sklearn</code> restando la media y dividiendo por la desviación estándar)."
   ]
  }
 ],
 "metadata": {
  "language_info": {
   "name": "python"
  },
  "orig_nbformat": 4
 },
 "nbformat": 4,
 "nbformat_minor": 2
}
