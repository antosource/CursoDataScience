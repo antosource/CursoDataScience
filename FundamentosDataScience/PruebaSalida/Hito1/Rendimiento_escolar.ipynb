{
 "cells": [
  {
   "cell_type": "markdown",
   "metadata": {},
   "source": [
    "### Hito1 para Rendimiento Escolar\n",
    "*\"Generar un modelo que identifique aquellos alumnos que presentan un bajo desempeño académico, medido en el promedio final del año escolar y perfilar los alumnos. Mediante un archivo con registros sociodemográficos y conductuales de los alumnos de dos escuelas portugesas\"*\n",
    "\n",
    "*\"Se sugiere explorar atributos ambientales del alumno para ver si pueden ser abstraídos en categorías latentes.\"*\n"
   ]
  },
  {
   "cell_type": "markdown",
   "metadata": {},
   "source": [
    "### Preliminares\n",
    "\n",
    "#### Tipo de Problema a resolver: <code>**Regresión.**</code>\n",
    "- Es de regresión debido a que la variable objetivo tiene valores continuos, definida como el promedio de notas de los alumnos.\n",
    "\n",
    "Variable objetivo:\n",
    " \n",
    "- <code>G1: numérica</code>. Notas durante el primer semestre (VO 1 modelo descriptivo).\n",
    "- <code>G2: numérica</code>. Notas durante el segundo semestre (VO 2 modelo descriptivo).\n",
    "- <code>G3: numérica</code>. Promedio final (VO 3 modelo descriptivo, y VO modelo predictivo).\n",
    "\n",
    "\n",
    "#### Medicion de desempeño:\n",
    "\n",
    "- <code>MSE (Error cuadrático medio)</code>: Este se define a partir de las distancias entre el valor estimado y el valor real de la variable objetivo de nuestro modelo. (Nos permite medir la calidad de  nuestro ajuste, e idealmente queremos que sea pequeño.)\n",
    "\n",
    "- <code>r2_score</code>: representa la proporción porcentual de la varianza total de la variable objetivo que es explicada por los atributos agregados al modelo."
   ]
  },
  {
   "cell_type": "markdown",
   "metadata": {},
   "source": [
    "### Aspectos computacionales\n",
    "\n",
    "Las librerias utilizadas son:\n",
    "\n",
    "- numpy\n",
    "- pandas\n",
    "- matplotlib\n",
    "- seaborn\n",
    "- scipy\n",
    "- statsmodels\n",
    "- sklearn\n",
    "- warnings\n",
    "\n",
    "Las librerias propias a utilizar son:\n",
    "\n",
    "- calidad_datos2\n",
    "- graficos\n",
    "\n",
    "#### Métricas de evaluación, preprocesamiento y recodificación de datos.\n",
    "\n",
    "Se hará un análisis exploratorio de las variables para realizar el preprocesamiento:\n",
    "\n",
    "- Se eliminaran del modelo los valores nulos, perdidos y caracteres incorrectos o anomalos, tambien se cambiaran los valores en texto a numeros. Tanto antes como despues de esta depuracion se utilizará <code>calidad_datos2 </code>que nos permite tener una perspectiva global.\n",
    "\n",
    "- Se realizara un <code>estudio de dimensionalidad</code> mediante el algoritmo de <code>Kmeans de la librería Sklearn </code>para estudiar la medida de similitud entre los atributos y considerar agrupar variables.\n",
    "\n",
    "- Se realizará una<code> exploración de correlaciones</code> entre atributos y variable objetivo. Para considerar la eventual exclusion del modelo dependendiendo si se correlacionan fuertemente\n",
    "\n",
    "- Transformación de variables categóricas aplicando dummies: <code>pd.get_dummies</code> (binary encoding)\n",
    "\n",
    "- Transformación de variables binarias a <code>0 y 1</code>. Se considerará como 1 la categoría minoritaria.\n",
    "\n",
    "- Tambien se explorarán las variables numéricas para evaluar su estandarización de escalas (usando <code>StandardScaler</code> de la librería <code>Sklearn</code> restando la media y dividiendo por la desviación estándar)."
   ]
  }
 ],
 "metadata": {
  "language_info": {
   "name": "python"
  },
  "orig_nbformat": 4
 },
 "nbformat": 4,
 "nbformat_minor": 2
}
