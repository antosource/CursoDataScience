{
 "cells": [
  {
   "cell_type": "markdown",
   "metadata": {},
   "source": [
    "### Hito2 para Rendimiento Escolar\n",
    "*\"Se generará un análisis descriptivo considerando el tipo de variables (desde el punto de vista estadístico así como computacional). Esta sección debe considerar medidas univariadas/ frecuencias, datos perdidos y gráficos distributivos sobre las variables a analizar. A partir de ésta se debe clarificar la estrategia de preprocesamiento (datos perdidos, recodificaciones).\"*"
   ]
  },
  {
   "cell_type": "markdown",
   "metadata": {},
   "source": [
    "### Inspección Visual"
   ]
  },
  {
   "cell_type": "code",
   "execution_count": 1,
   "metadata": {},
   "outputs": [],
   "source": [
    "%matplotlib inline\n",
    "\n",
    "import pandas as pd\n",
    "import numpy as np\n",
    "import seaborn as sns\n",
    "import matplotlib.pyplot as plt\n",
    "import scipy.stats as stats\n",
    "\n",
    "import statsmodels.formula as sm\n",
    "import statsmodels.formula.api as smf\n",
    "\n",
    "from sklearn.linear_model import LogisticRegression\n",
    "from sklearn.model_selection import train_test_split\n",
    "from sklearn.preprocessing import StandardScaler\n",
    "from sklearn.metrics import roc_curve, classification_report \n",
    "\n",
    "from calidad_datos import calidad_datos\n",
    "from graficos import cross_plot\n",
    "\n",
    "import warnings\n",
    "warnings.filterwarnings('ignore')\n",
    "\n",
    "plt.style.use('seaborn') # Gráficos estilo seaborn\n",
    "plt.rcParams[\"figure.figsize\"] = (5, 3) # Tamaño gráficos (8, 6)\n",
    "plt.rcParams[\"figure.dpi\"] = 100 # resolución gráficos 70"
   ]
  },
  {
   "cell_type": "code",
   "execution_count": 63,
   "metadata": {},
   "outputs": [
    {
     "data": {
      "text/plain": [
       "10          50\n",
       "8           41\n",
       "11          38\n",
       "7           36\n",
       "12          35\n",
       "13          33\n",
       "9           31\n",
       "14          30\n",
       "15          24\n",
       "6           23\n",
       "16          22\n",
       "18           8\n",
       "17           8\n",
       "5            7\n",
       "19           3\n",
       "nulidade     3\n",
       "zero         1\n",
       "4            1\n",
       "3            1\n",
       "Name: G1, dtype: int64"
      ]
     },
     "execution_count": 63,
     "metadata": {},
     "output_type": "execute_result"
    }
   ],
   "source": [
    "df = pd.read_csv('students.csv', sep='|',index_col=0)\n",
    "age=df.age.str.replace('\"',\"\").replace(['nulidade','sem validade'],[np.nan,np.nan]).astype('float')\n",
    "goout=df.goout.str.replace('\"',\"\").replace(['nulidade','sem validade', 'zero'],[np.nan,np.nan,np.nan]).astype('float')\n",
    "health=df.health.str.replace('\"',\"\").replace(['sem validade', 'zero'],[np.nan,np.nan]).astype('float')\n",
    "\n",
    "G1=df.G1.replace((['nulidade', 'zero'],[np.nan,np.nan])).astype('float')\n",
    "G2=df.G1.value_counts()\n",
    "\n",
    "G2\n",
    "\n"
   ]
  },
  {
   "cell_type": "markdown",
   "metadata": {},
   "source": [
    "### Proceso de preprocesamiento y recodificación de las variables"
   ]
  }
 ],
 "metadata": {
  "kernelspec": {
   "display_name": "Python 3.9.5 64-bit",
   "language": "python",
   "name": "python3"
  },
  "language_info": {
   "codemirror_mode": {
    "name": "ipython",
    "version": 3
   },
   "file_extension": ".py",
   "mimetype": "text/x-python",
   "name": "python",
   "nbconvert_exporter": "python",
   "pygments_lexer": "ipython3",
   "version": "3.9.5"
  },
  "orig_nbformat": 4,
  "vscode": {
   "interpreter": {
    "hash": "11938c6bc6919ae2720b4d5011047913343b08a43b18698fd82dedb0d4417594"
   }
  }
 },
 "nbformat": 4,
 "nbformat_minor": 2
}
