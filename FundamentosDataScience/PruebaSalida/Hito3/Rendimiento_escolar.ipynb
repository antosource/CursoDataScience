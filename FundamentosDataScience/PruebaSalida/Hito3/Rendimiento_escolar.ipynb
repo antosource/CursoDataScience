{
 "cells": [
  {
   "cell_type": "markdown",
   "metadata": {},
   "source": [
    "### Hito3 para Rendimiento Escolar\n",
    "*\"Se generará un análisis descriptivo considerando el tipo de variables (desde el punto de vista estadístico así como computacional). Esta sección debe considerar medidas univariadas/ frecuencias, datos perdidos y gráficos distributivos sobre las variables a analizar. A partir de ésta se debe clarificar la estrategia de preprocesamiento (datos perdidos, recodificaciones).\"*"
   ]
  },
  {
   "cell_type": "markdown",
   "metadata": {},
   "source": [
    "### Inspección Visual"
   ]
  },
  {
   "cell_type": "code",
   "execution_count": null,
   "metadata": {},
   "outputs": [],
   "source": [
    "%matplotlib inline\n",
    "\n",
    "import pandas as pd\n",
    "import numpy as np\n",
    "import seaborn as sns\n",
    "import matplotlib.pyplot as plt\n",
    "import scipy.stats as stats\n",
    "\n",
    "import statsmodels.formula as sm\n",
    "import statsmodels.formula.api as smf\n",
    "\n",
    "from sklearn.linear_model import LogisticRegression\n",
    "from sklearn.model_selection import train_test_split\n",
    "from sklearn.preprocessing import StandardScaler\n",
    "from sklearn.metrics import roc_curve, classification_report \n",
    "\n",
    "from calidad_datos2 import calidad_datos as cal\n",
    "from graficos import *\n",
    "\n",
    "import warnings\n",
    "warnings.filterwarnings('ignore')\n",
    "\n",
    "plt.style.use('seaborn') # Gráficos estilo seaborn\n",
    "plt.rcParams[\"figure.figsize\"] = (8,6) # Tamaño gráficos (5, 3)\n",
    "plt.rcParams[\"figure.dpi\"] = 75 # resolución gráficos 100\n",
    "\n",
    "font = {'family': 'serif',\n",
    "        'color':  'red',\n",
    "        'weight': 'normal',\n",
    "        'size': 12,\n",
    "        }"
   ]
  },
  {
   "cell_type": "code",
   "execution_count": 1,
   "metadata": {},
   "outputs": [
    {
     "ename": "NameError",
     "evalue": "name 'pd' is not defined",
     "output_type": "error",
     "traceback": [
      "\u001b[1;31m---------------------------------------------------------------------------\u001b[0m",
      "\u001b[1;31mNameError\u001b[0m                                 Traceback (most recent call last)",
      "\u001b[1;32mUbuntu\\home\\antonio\\CursoDataScience\\FundamentosDataScience\\PruebaSalida\\Hito3\\Rendimiento_escolar.ipynb Celda 4\u001b[0m in \u001b[0;36m<cell line: 2>\u001b[1;34m()\u001b[0m\n\u001b[0;32m      <a href='vscode-notebook-cell://wsl%24/Ubuntu/home/antonio/CursoDataScience/FundamentosDataScience/PruebaSalida/Hito3/Rendimiento_escolar.ipynb#ch0000003?line=0'>1</a>\u001b[0m \u001b[39m#Se realiza la importación de los datos y ajuste del separador\u001b[39;00m\n\u001b[1;32m----> <a href='vscode-notebook-cell://wsl%24/Ubuntu/home/antonio/CursoDataScience/FundamentosDataScience/PruebaSalida/Hito3/Rendimiento_escolar.ipynb#ch0000003?line=1'>2</a>\u001b[0m df \u001b[39m=\u001b[39m pd\u001b[39m.\u001b[39mread_csv(\u001b[39m'\u001b[39m\u001b[39mstudents_ready.csv\u001b[39m\u001b[39m'\u001b[39m, index_col\u001b[39m=\u001b[39m\u001b[39m0\u001b[39m)\n\u001b[0;32m      <a href='vscode-notebook-cell://wsl%24/Ubuntu/home/antonio/CursoDataScience/FundamentosDataScience/PruebaSalida/Hito3/Rendimiento_escolar.ipynb#ch0000003?line=2'>3</a>\u001b[0m df\n",
      "\u001b[1;31mNameError\u001b[0m: name 'pd' is not defined"
     ]
    }
   ],
   "source": [
    "#Se realiza la importación de los datos y ajuste del separador\n",
    "df = pd.read_csv('students_ready.csv', index_col=0)\n",
    "df"
   ]
  }
 ],
 "metadata": {
  "kernelspec": {
   "display_name": "Python 3.9.5 64-bit",
   "language": "python",
   "name": "python3"
  },
  "language_info": {
   "codemirror_mode": {
    "name": "ipython",
    "version": 3
   },
   "file_extension": ".py",
   "mimetype": "text/x-python",
   "name": "python",
   "nbconvert_exporter": "python",
   "pygments_lexer": "ipython3",
   "version": "3.9.5"
  },
  "orig_nbformat": 4,
  "vscode": {
   "interpreter": {
    "hash": "11938c6bc6919ae2720b4d5011047913343b08a43b18698fd82dedb0d4417594"
   }
  }
 },
 "nbformat": 4,
 "nbformat_minor": 2
}
