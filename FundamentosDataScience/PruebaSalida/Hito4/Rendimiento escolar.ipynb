{
 "cells": [
  {
   "cell_type": "markdown",
   "metadata": {},
   "source": [
    "### Hito4 para Rendimiento Escolar\n",
    "*\"Modelación donde se implementará una solución analítica que aumente las métricas de desempeño. Se solicitan por lo menos 3 modelos predictivos, donde deberán reportar las principales métricas. Cada modelo predictivo debe tener una reseña sobre el por qué se diseñó de esa forma..\"*"
   ]
  },
  {
   "cell_type": "markdown",
   "metadata": {},
   "source": [
    "####  Carga de librerias e importación de .csv obtenido en el hito anterior"
   ]
  },
  {
   "cell_type": "code",
   "execution_count": 2,
   "metadata": {},
   "outputs": [],
   "source": [
    "%matplotlib inline\n",
    "\n",
    "import pandas as pd\n",
    "import numpy as np\n",
    "import seaborn as sns\n",
    "import matplotlib.pyplot as plt\n",
    "\n",
    "from sklearn.model_selection import train_test_split\n",
    "from sklearn.linear_model import LinearRegression\n",
    "from sklearn.metrics import mean_squared_error, r2_score\n",
    "\n",
    "#from graficos import *\n",
    "import funciones as fun\n",
    "from graficos import *\n",
    "\n",
    "import warnings\n",
    "warnings.filterwarnings('ignore')\n",
    "\n",
    "plt.style.use('seaborn') # Gráficos estilo seaborn\n",
    "plt.rcParams[\"figure.figsize\"] = (8,6) # Tamaño gráficos (5, 3)\n",
    "plt.rcParams[\"figure.dpi\"] = 75 # resolución gráficos 100"
   ]
  },
  {
   "cell_type": "code",
   "execution_count": 3,
   "metadata": {},
   "outputs": [],
   "source": [
    "df_dummies = pd.read_csv('students_dummies.csv')\n",
    "df=pd.read_csv('students_ready.csv')\n",
    "df_bin=pd.read_csv('students_bin.csv')\n"
   ]
  },
  {
   "cell_type": "markdown",
   "metadata": {},
   "source": [
    "###  Modelación predictiva\n",
    "\n",
    "- Se generaran modelos con todas las variables significativas y luego filtrando variables significativas de G1 y G2.\n",
    "- Se generarán sub conjuntos de entrenamiento y prueba\n",
    "- Se ajustara el modelo, se obtendran metricas.\n",
    "\n",
    "####  Modelo 1:"
   ]
  },
  {
   "cell_type": "code",
   "execution_count": 4,
   "metadata": {},
   "outputs": [],
   "source": [
    "# seleccionamos modelo con todas las variables\n",
    "df_pred = df_dummies\n"
   ]
  },
  {
   "cell_type": "code",
   "execution_count": 5,
   "metadata": {},
   "outputs": [
    {
     "name": "stdout",
     "output_type": "stream",
     "text": [
      "Error cuadrático medio: 4.084732047435653\n",
      "R2: 0.79\n"
     ]
    }
   ],
   "source": [
    "# separamos variable objetivo del conjunto de datos\n",
    "mat_atr = df_pred.drop('G3', axis=1)\n",
    "vec_obj = df_pred.loc[:, 'G3']\n",
    "\n",
    "# split de conjuntos de entrenamiento vs prueba\n",
    "X_train, X_test, y_train, y_test = train_test_split(mat_atr, vec_obj, test_size=.33, random_state=1238)\n",
    "\n",
    "# ajustamos modelo sin alterar hiperparámetros\n",
    "modelo_1 =  LinearRegression(fit_intercept=True).fit(X_train, y_train)\n",
    "\n",
    "# predecimos la V.O\n",
    "y_hat = modelo_1.predict(X_test)\n",
    "\n",
    "# obtenemos métricas funcion report_scores()\n",
    "mse = mean_squared_error(y_hat, y_test)\n",
    "r2 = r2_score(y_hat, y_test).round(2)\n",
    "print(f'Error cuadrático medio: {mse}')\n",
    "print(f'R2: {r2}')"
   ]
  },
  {
   "cell_type": "code",
   "execution_count": 6,
   "metadata": {},
   "outputs": [
    {
     "data": {
      "text/html": [
       "<div>\n",
       "<style scoped>\n",
       "    .dataframe tbody tr th:only-of-type {\n",
       "        vertical-align: middle;\n",
       "    }\n",
       "\n",
       "    .dataframe tbody tr th {\n",
       "        vertical-align: top;\n",
       "    }\n",
       "\n",
       "    .dataframe thead th {\n",
       "        text-align: right;\n",
       "    }\n",
       "</style>\n",
       "<table border=\"1\" class=\"dataframe\">\n",
       "  <thead>\n",
       "    <tr style=\"text-align: right;\">\n",
       "      <th></th>\n",
       "      <th>goout</th>\n",
       "      <th>Walc</th>\n",
       "      <th>failures</th>\n",
       "      <th>health</th>\n",
       "      <th>studytime</th>\n",
       "      <th>famsup</th>\n",
       "      <th>schoolsup</th>\n",
       "      <th>freetime</th>\n",
       "      <th>G3</th>\n",
       "    </tr>\n",
       "  </thead>\n",
       "  <tbody>\n",
       "    <tr>\n",
       "      <th>0</th>\n",
       "      <td>3.0</td>\n",
       "      <td>1.0</td>\n",
       "      <td>0.0</td>\n",
       "      <td>3.0</td>\n",
       "      <td>2.0</td>\n",
       "      <td>1</td>\n",
       "      <td>0</td>\n",
       "      <td>3.0</td>\n",
       "      <td>6.0</td>\n",
       "    </tr>\n",
       "    <tr>\n",
       "      <th>1</th>\n",
       "      <td>2.0</td>\n",
       "      <td>1.0</td>\n",
       "      <td>0.0</td>\n",
       "      <td>5.0</td>\n",
       "      <td>3.0</td>\n",
       "      <td>1</td>\n",
       "      <td>0</td>\n",
       "      <td>2.0</td>\n",
       "      <td>15.0</td>\n",
       "    </tr>\n",
       "    <tr>\n",
       "      <th>2</th>\n",
       "      <td>2.0</td>\n",
       "      <td>2.0</td>\n",
       "      <td>0.0</td>\n",
       "      <td>5.0</td>\n",
       "      <td>2.0</td>\n",
       "      <td>1</td>\n",
       "      <td>0</td>\n",
       "      <td>4.0</td>\n",
       "      <td>15.0</td>\n",
       "    </tr>\n",
       "    <tr>\n",
       "      <th>3</th>\n",
       "      <td>4.0</td>\n",
       "      <td>1.0</td>\n",
       "      <td>0.0</td>\n",
       "      <td>3.0</td>\n",
       "      <td>2.0</td>\n",
       "      <td>0</td>\n",
       "      <td>0</td>\n",
       "      <td>4.0</td>\n",
       "      <td>11.0</td>\n",
       "    </tr>\n",
       "    <tr>\n",
       "      <th>4</th>\n",
       "      <td>4.0</td>\n",
       "      <td>1.0</td>\n",
       "      <td>0.0</td>\n",
       "      <td>1.0</td>\n",
       "      <td>2.0</td>\n",
       "      <td>1</td>\n",
       "      <td>1</td>\n",
       "      <td>1.0</td>\n",
       "      <td>6.0</td>\n",
       "    </tr>\n",
       "  </tbody>\n",
       "</table>\n",
       "</div>"
      ],
      "text/plain": [
       "   goout  Walc  failures  health  studytime  famsup  schoolsup  freetime    G3\n",
       "0    3.0   1.0       0.0     3.0        2.0       1          0       3.0   6.0\n",
       "1    2.0   1.0       0.0     5.0        3.0       1          0       2.0  15.0\n",
       "2    2.0   2.0       0.0     5.0        2.0       1          0       4.0  15.0\n",
       "3    4.0   1.0       0.0     3.0        2.0       0          0       4.0  11.0\n",
       "4    4.0   1.0       0.0     1.0        2.0       1          1       1.0   6.0"
      ]
     },
     "execution_count": 6,
     "metadata": {},
     "output_type": "execute_result"
    }
   ],
   "source": [
    "# seleccionamos modelo variables significativas\n",
    "var_sig=['goout', 'Walc', 'failures', 'health', 'studytime', 'famsup', 'schoolsup','freetime','G3']\n",
    "df_pred = df_dummies.loc[:, var_sig]\n",
    "df_pred.head()"
   ]
  },
  {
   "cell_type": "code",
   "execution_count": 7,
   "metadata": {},
   "outputs": [
    {
     "name": "stdout",
     "output_type": "stream",
     "text": [
      "Error cuadrático medio: 17.177532310140837\n",
      "R2: -2.53\n"
     ]
    }
   ],
   "source": [
    "# separamos variable objetivo del conjunto de datos\n",
    "mat_atr = df_pred.drop('G3', axis=1)\n",
    "vec_obj = df_pred.loc[:, 'G3']\n",
    "\n",
    "# split de conjuntos de entrenamiento vs prueba\n",
    "X_train, X_test, y_train, y_test = train_test_split(mat_atr, vec_obj, test_size=.33, random_state=1238)\n",
    "\n",
    "# ajustamos modelo sin alterar hiperparámetros\n",
    "modelo_1 =  LinearRegression(fit_intercept=True).fit(X_train, y_train)\n",
    "\n",
    "# predecimos la V.O\n",
    "y_hat = modelo_1.predict(X_test)\n",
    "\n",
    "# obtenemos métricas funcion report_scores()\n",
    "mse = mean_squared_error(y_hat, y_test)\n",
    "r2 = r2_score(y_hat, y_test).round(2)\n",
    "print(f'Error cuadrático medio: {mse}')\n",
    "print(f'R2: {r2}')"
   ]
  },
  {
   "cell_type": "markdown",
   "metadata": {},
   "source": [
    "#### Analisis de resultados Modelo 1:\n",
    "\n",
    "me dio valores negativos HELP\n",
    "\n",
    "#### Modelo 2\n"
   ]
  }
 ],
 "metadata": {
  "kernelspec": {
   "display_name": "Python 3.9.5 64-bit",
   "language": "python",
   "name": "python3"
  },
  "language_info": {
   "codemirror_mode": {
    "name": "ipython",
    "version": 3
   },
   "file_extension": ".py",
   "mimetype": "text/x-python",
   "name": "python",
   "nbconvert_exporter": "python",
   "pygments_lexer": "ipython3",
   "version": "3.9.5"
  },
  "orig_nbformat": 4,
  "vscode": {
   "interpreter": {
    "hash": "11938c6bc6919ae2720b4d5011047913343b08a43b18698fd82dedb0d4417594"
   }
  }
 },
 "nbformat": 4,
 "nbformat_minor": 2
}
