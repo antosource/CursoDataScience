{
 "cells": [
  {
   "cell_type": "code",
   "execution_count": 25,
   "metadata": {},
   "outputs": [
    {
     "data": {
      "text/plain": [
       "0     1.67\n",
       "1     1.73\n",
       "2     1.62\n",
       "3     1.58\n",
       "4     1.86\n",
       "5     1.79\n",
       "6     1.69\n",
       "7     1.60\n",
       "8     1.60\n",
       "9     1.98\n",
       "10    1.72\n",
       "11    1.63\n",
       "12    1.73\n",
       "13    1.62\n",
       "14    1.58\n",
       "15    1.86\n",
       "Name: altura, dtype: float64"
      ]
     },
     "execution_count": 25,
     "metadata": {},
     "output_type": "execute_result"
    }
   ],
   "source": [
    "import pandas as pd\n",
    "\n",
    "#Ejemplo DataFrame\n",
    "df = pd.read_csv('alumnos.csv')\n",
    "\n",
    "# .head muestra los primeros campos de la tabla  \n",
    "df.head()\n",
    "\n",
    "# .shape muestra cantidad de filas y columnas.\n",
    "df.shape \n",
    "\n",
    "#Operador slice (:) permite segmentar el DataFlame\n",
    "df[:5]\n",
    "df[5:]\n",
    "df[5:10]\n",
    "\n",
    "#Series\n",
    "#Buscar una columna\n",
    "df['altura']\n",
    "altura = df['altura']\n",
    "type(altura)\n",
    "\n",
    "#Tambien se puede segmentar\n",
    "altura[15:]\n",
    "altura[:16]"
   ]
  }
 ],
 "metadata": {
  "interpreter": {
   "hash": "11938c6bc6919ae2720b4d5011047913343b08a43b18698fd82dedb0d4417594"
  },
  "kernelspec": {
   "display_name": "Python 3.9.5 64-bit",
   "language": "python",
   "name": "python3"
  },
  "language_info": {
   "codemirror_mode": {
    "name": "ipython",
    "version": 3
   },
   "file_extension": ".py",
   "mimetype": "text/x-python",
   "name": "python",
   "nbconvert_exporter": "python",
   "pygments_lexer": "ipython3",
   "version": "3.9.5"
  },
  "orig_nbformat": 4
 },
 "nbformat": 4,
 "nbformat_minor": 2
}
