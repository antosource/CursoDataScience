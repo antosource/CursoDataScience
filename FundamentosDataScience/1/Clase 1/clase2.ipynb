{
 "cells": [
  {
   "cell_type": "code",
   "execution_count": 1,
   "metadata": {},
   "outputs": [
    {
     "name": "stdout",
     "output_type": "stream",
     "text": [
      "Hola Mundo, esta es mi primera incurcion en python\n"
     ]
    }
   ],
   "source": [
    "print('Hola Mundo, esta es mi primera incursión en python')"
   ]
  },
  {
   "cell_type": "code",
   "execution_count": 17,
   "metadata": {},
   "outputs": [],
   "source": [
    "name = 'Antonio'\n",
    "age = 47\n",
    "activity = ['andar en Moto', 'realizar IOT', 'practicar trekking']\n",
    "pet = True"
   ]
  },
  {
   "cell_type": "code",
   "execution_count": 23,
   "metadata": {},
   "outputs": [
    {
     "name": "stdout",
     "output_type": "stream",
     "text": [
      "Antonio\n",
      "47\n",
      "realizar IOT\n",
      "True\n",
      "<class 'str'>\n",
      "<class 'int'>\n",
      "<class 'list'>\n",
      "<class 'bool'>\n",
      "Mi nombre es Antonio, tengo 47 años me gusta andar en Moto, realizar IOT, practicar trekking y si tengo una mascota\n"
     ]
    }
   ],
   "source": [
    "print (name)\n",
    "print (age)\n",
    "print (activity[1])\n",
    "print (pet)\n",
    "\n",
    "print (type(name))\n",
    "print (type(age))\n",
    "print (type(activity))\n",
    "print (type(pet))\n",
    "resp = 'si' if pet else 'no' \n",
    "print(f'Mi nombre es {name}, tengo {age} años me gusta {activity[0]}, {activity[1]}, {activity[2]} y {resp} tengo una mascota')\n"
   ]
  },
  {
   "cell_type": "markdown",
   "metadata": {},
   "source": []
  }
 ],
 "metadata": {
  "interpreter": {
   "hash": "916dbcbb3f70747c44a77c7bcd40155683ae19c65e1c03b4aa3499c5328201f1"
  },
  "kernelspec": {
   "display_name": "Python 3.8.10 64-bit",
   "language": "python",
   "name": "python3"
  },
  "language_info": {
   "codemirror_mode": {
    "name": "ipython",
    "version": 3
   },
   "file_extension": ".py",
   "mimetype": "text/x-python",
   "name": "python",
   "nbconvert_exporter": "python",
   "pygments_lexer": "ipython3",
   "version": "3.8.10"
  },
  "orig_nbformat": 4
 },
 "nbformat": 4,
 "nbformat_minor": 2
}
