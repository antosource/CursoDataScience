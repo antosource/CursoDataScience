{
 "cells": [
  {
   "cell_type": "code",
   "execution_count": null,
   "metadata": {},
   "outputs": [],
   "source": [
    "q1 = df3['passengers'].quantile(0.25)\n",
    "q3 = df3['passengers'].quantile(0.75)\n",
    "iqr = q3-q1\n",
    "lower_bound = q1 -(1.5 * iqr) \n",
    "upper_bound = q3 +(1.5 * iqr)\n",
    "\n",
    "print(df3['passengers'].describe())\n",
    "\n",
    "\n",
    "print(q1,q3,iqr, lower_bound, upper_bound)\n",
    "\n",
    "#df2 = (df[df['outlier']==1]).reset_index() \n",
    "#print(df2)\n",
    "\n",
    "#print(df2['passengers'].describe())\n",
    "\n",
    "#df2.plot.scatter(x='year', y='passengers',  ,cmap='coolwarm', figsize=(10,7),\n",
    "#                title=('Gráfica resultante identificando valores \"outlier\"'))\n",
    "\n",
    "#boxplot = df.boxplot(column=['passengers'], by=\"year\",grid=True,fontsize=9)\n",
    "#boxplot.plot()"
   ]
  }
 ],
 "metadata": {
  "language_info": {
   "name": "python"
  },
  "orig_nbformat": 4
 },
 "nbformat": 4,
 "nbformat_minor": 2
}
