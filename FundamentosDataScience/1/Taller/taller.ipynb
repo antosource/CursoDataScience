{
 "cells": [
  {
   "cell_type": "markdown",
   "metadata": {},
   "source": [
    "#### 1. Generar un par de arrays ficticios con numpy. (1 punto)\n"
   ]
  },
  {
   "cell_type": "code",
   "execution_count": 1,
   "metadata": {},
   "outputs": [],
   "source": [
    "import numpy as np\n",
    "\n",
    "a = np.linspace(1, 50, num=50)  # num por defecto es num=50\n",
    "b = np.linspace(51,100, num=50) # num por defecto es num=50"
   ]
  },
  {
   "cell_type": "markdown",
   "metadata": {},
   "source": [
    "#### 2. Ejecuta un loop que devuelva si el número en el primer array es par o impar.(1 punto)"
   ]
  },
  {
   "cell_type": "code",
   "execution_count": 2,
   "metadata": {},
   "outputs": [
    {
     "name": "stdout",
     "output_type": "stream",
     "text": [
      "1.0 Es impar\n",
      "2.0 Es par\n",
      "3.0 Es impar\n",
      "4.0 Es par\n",
      "5.0 Es impar\n",
      "6.0 Es par\n",
      "7.0 Es impar\n",
      "8.0 Es par\n",
      "9.0 Es impar\n",
      "10.0 Es par\n",
      "11.0 Es impar\n",
      "12.0 Es par\n",
      "13.0 Es impar\n",
      "14.0 Es par\n",
      "15.0 Es impar\n",
      "16.0 Es par\n",
      "17.0 Es impar\n",
      "18.0 Es par\n",
      "19.0 Es impar\n",
      "20.0 Es par\n",
      "21.0 Es impar\n",
      "22.0 Es par\n",
      "23.0 Es impar\n",
      "24.0 Es par\n",
      "25.0 Es impar\n",
      "26.0 Es par\n",
      "27.0 Es impar\n",
      "28.0 Es par\n",
      "29.0 Es impar\n",
      "30.0 Es par\n",
      "31.0 Es impar\n",
      "32.0 Es par\n",
      "33.0 Es impar\n",
      "34.0 Es par\n",
      "35.0 Es impar\n",
      "36.0 Es par\n",
      "37.0 Es impar\n",
      "38.0 Es par\n",
      "39.0 Es impar\n",
      "40.0 Es par\n",
      "41.0 Es impar\n",
      "42.0 Es par\n",
      "43.0 Es impar\n",
      "44.0 Es par\n",
      "45.0 Es impar\n",
      "46.0 Es par\n",
      "47.0 Es impar\n",
      "48.0 Es par\n",
      "49.0 Es impar\n",
      "50.0 Es par\n"
     ]
    }
   ],
   "source": [
    "for i in a:\n",
    "   resp = \"Es par\" if i%2==0 else \"Es impar\" \n",
    "   print(str(i) + ' '+resp )"
   ]
  },
  {
   "cell_type": "markdown",
   "metadata": {},
   "source": [
    "#### 3. Genere un loop con el segundo array que cuente las siguientes condiciones (1 punto):\n",
    "- Si el número es divisible por 2 o 3.\n",
    "- Si el número es divisible por 2 y 3.\n",
    "- Si el número es divisible por 3 pero no por 2.\n",
    "- Si el número no es divisible por 2 ni 3."
   ]
  },
  {
   "cell_type": "code",
   "execution_count": 3,
   "metadata": {},
   "outputs": [
    {
     "name": "stdout",
     "output_type": "stream",
     "text": [
      "51:\n",
      "  Es divisible por 2 o 3\n",
      "  Es divisible por 3 pero no por 2\n",
      "52:\n",
      "  Es divisible por 2 o 3\n",
      "53:\n",
      "  No es divisible por 2 o 3\n",
      "54:\n",
      "  Es divisible por 2 o 3\n",
      "  Es divisible por 2 y 3\n",
      "55:\n",
      "  No es divisible por 2 o 3\n",
      "56:\n",
      "  Es divisible por 2 o 3\n",
      "57:\n",
      "  Es divisible por 2 o 3\n",
      "  Es divisible por 3 pero no por 2\n",
      "58:\n",
      "  Es divisible por 2 o 3\n",
      "59:\n",
      "  No es divisible por 2 o 3\n",
      "60:\n",
      "  Es divisible por 2 o 3\n",
      "  Es divisible por 2 y 3\n",
      "61:\n",
      "  No es divisible por 2 o 3\n",
      "62:\n",
      "  Es divisible por 2 o 3\n",
      "63:\n",
      "  Es divisible por 2 o 3\n",
      "  Es divisible por 3 pero no por 2\n",
      "64:\n",
      "  Es divisible por 2 o 3\n",
      "65:\n",
      "  No es divisible por 2 o 3\n",
      "66:\n",
      "  Es divisible por 2 o 3\n",
      "  Es divisible por 2 y 3\n",
      "67:\n",
      "  No es divisible por 2 o 3\n",
      "68:\n",
      "  Es divisible por 2 o 3\n",
      "69:\n",
      "  Es divisible por 2 o 3\n",
      "  Es divisible por 3 pero no por 2\n",
      "70:\n",
      "  Es divisible por 2 o 3\n",
      "71:\n",
      "  No es divisible por 2 o 3\n",
      "72:\n",
      "  Es divisible por 2 o 3\n",
      "  Es divisible por 2 y 3\n",
      "73:\n",
      "  No es divisible por 2 o 3\n",
      "74:\n",
      "  Es divisible por 2 o 3\n",
      "75:\n",
      "  Es divisible por 2 o 3\n",
      "  Es divisible por 3 pero no por 2\n",
      "76:\n",
      "  Es divisible por 2 o 3\n",
      "77:\n",
      "  No es divisible por 2 o 3\n",
      "78:\n",
      "  Es divisible por 2 o 3\n",
      "  Es divisible por 2 y 3\n",
      "79:\n",
      "  No es divisible por 2 o 3\n",
      "80:\n",
      "  Es divisible por 2 o 3\n",
      "81:\n",
      "  Es divisible por 2 o 3\n",
      "  Es divisible por 3 pero no por 2\n",
      "82:\n",
      "  Es divisible por 2 o 3\n",
      "83:\n",
      "  No es divisible por 2 o 3\n",
      "84:\n",
      "  Es divisible por 2 o 3\n",
      "  Es divisible por 2 y 3\n",
      "85:\n",
      "  No es divisible por 2 o 3\n",
      "86:\n",
      "  Es divisible por 2 o 3\n",
      "87:\n",
      "  Es divisible por 2 o 3\n",
      "  Es divisible por 3 pero no por 2\n",
      "88:\n",
      "  Es divisible por 2 o 3\n",
      "89:\n",
      "  No es divisible por 2 o 3\n",
      "90:\n",
      "  Es divisible por 2 o 3\n",
      "  Es divisible por 2 y 3\n",
      "91:\n",
      "  No es divisible por 2 o 3\n",
      "92:\n",
      "  Es divisible por 2 o 3\n",
      "93:\n",
      "  Es divisible por 2 o 3\n",
      "  Es divisible por 3 pero no por 2\n",
      "94:\n",
      "  Es divisible por 2 o 3\n",
      "95:\n",
      "  No es divisible por 2 o 3\n",
      "96:\n",
      "  Es divisible por 2 o 3\n",
      "  Es divisible por 2 y 3\n",
      "97:\n",
      "  No es divisible por 2 o 3\n",
      "98:\n",
      "  Es divisible por 2 o 3\n",
      "99:\n",
      "  Es divisible por 2 o 3\n",
      "  Es divisible por 3 pero no por 2\n",
      "100:\n",
      "  Es divisible por 2 o 3\n"
     ]
    }
   ],
   "source": [
    "for i in b:\n",
    "  print(f\"{int(i)}:\")\n",
    "  if i%2== 0 or i%3 ==0: print('  Es divisible por 2 o 3')\n",
    "  else : print('  No es divisible por 2 o 3')\n",
    "  if i%2== 0 and i%3 ==0: print('  Es divisible por 2 y 3')\n",
    "  if i%2!= 0 and i%3 ==0: print('  Es divisible por 3 pero no por 2')"
   ]
  },
  {
   "cell_type": "markdown",
   "metadata": {},
   "source": [
    "#### 4. Corrección de errores: Revisa el siguiente código y encuentra los errores a corregir (1 punto)"
   ]
  },
  {
   "cell_type": "markdown",
   "metadata": {},
   "source": [
    "for i in range(100):\n",
    "print(I**2)\n",
    "\n",
    "> La letra I al interior del print debe ser minuscula -> i "
   ]
  },
  {
   "cell_type": "markdown",
   "metadata": {},
   "source": [
    "#### 5. Utilizando la misma base flights.csv debes hacer un loop y clasificar los meses con una cantidad de pasajeros menor a la media. Para ello (3 puntos):\n",
    "- Genera un nuevo objeto que represente la media de passengers.\n",
    "- Genera una columna en la base de datos que se llame underperforming y asígnele 0.\n",
    "- Ejecuta un loop que recorra cada observación de passengers, donde si la observación es menor a la media de passengers se le asigne a underperforming un 1.\n",
    "- Asignar unos en la columna underperforming ya creada, para ello utilice la función at de pandas.\n"
   ]
  },
  {
   "cell_type": "code",
   "execution_count": 26,
   "metadata": {},
   "outputs": [
    {
     "name": "stdout",
     "output_type": "stream",
     "text": [
      "DataFrame con los 80 casos menores a la media de 280.2986\n",
      "    year     month  passengers  underperforming\n",
      "0   1949   January         112                1\n",
      "1   1949  February         118                1\n",
      "2   1949     March         132                1\n",
      "3   1949     April         129                1\n",
      "4   1949       May         121                1\n",
      "..   ...       ...         ...              ...\n",
      "75  1955   October         274                1\n",
      "76  1955  November         237                1\n",
      "77  1955  December         278                1\n",
      "78  1956  February         277                1\n",
      "79  1956  November         271                1\n",
      "\n",
      "[80 rows x 4 columns]\n"
     ]
    }
   ],
   "source": [
    "import pandas as pd\n",
    "\n",
    "df = pd.read_csv('flights.csv')\n",
    "media = df['passengers'].mean()\n",
    "df['underperforming']= 0\n",
    "\n",
    "for i, row in df.iterrows():\n",
    "    if row.passengers < media: df.at[i,'underperforming']=1\n",
    "dfu= df[df['underperforming']==1].reset_index(drop=True)\n",
    "print(f\"DataFrame con los {len(dfu)} casos menores a la media de {media.round(4)}\\n{dfu}\")"
   ]
  },
  {
   "cell_type": "code",
   "execution_count": 5,
   "metadata": {},
   "outputs": [
    {
     "data": {
      "text/plain": [
       "<AxesSubplot:title={'center':'Gráfica resultante identificando valores \"underperforming\"'}, xlabel='year', ylabel='passengers'>"
      ]
     },
     "execution_count": 5,
     "metadata": {},
     "output_type": "execute_result"
    },
    {
     "data": {
      "image/png": "[encoded data removed]",
      "text/plain": [
       "<Figure size 720x504 with 2 Axes>"
      ]
     },
     "metadata": {
      "needs_background": "light"
     },
     "output_type": "display_data"
    }
   ],
   "source": [
    "\n",
    "df.plot.scatter(x='year', y='passengers', c='underperforming',cmap='coolwarm',figsize=(10,7),\n",
    "    title=('Gráfica resultante identificando valores \"underperforming\"'))\n"
   ]
  },
  {
   "cell_type": "markdown",
   "metadata": {},
   "source": [
    "#### 6. Por último, haz un loop que clasifique los meses donde la cantidad de pasajeros se escapa de la tendencia. Para ello (3 puntos):\n",
    "- Genera dos objetos que guarden la media general y la desviación estándar general de passengers.\n",
    "- Genera una nueva columna en la tabla de datos que se llame outlier y asígnale 0.\n",
    "- Ejecuta un loop que recorra cada observación de passengers, donde si la observación se escapa de la tendencia sea 1, de lo contrario 0.\n",
    "- Para clasificar los casos que se escapen la tendencia, la observación debe satisfacer una de las siguientes condiciones:\n",
    "    - La observación debe ser menor a la media menos la desviación estándar, o\n",
    "    - La observación debe ser mayor a la media más la desviación estándar.\n",
    "    - ¿Cuántas observaciones se pueden clasificar como casos extremos?"
   ]
  },
  {
   "cell_type": "code",
   "execution_count": 6,
   "metadata": {},
   "outputs": [
    {
     "name": "stdout",
     "output_type": "stream",
     "text": [
      "La media es: 280.2986111111111\n",
      "La desv_stdr es: 119.9663169429432\n",
      "     year      month  passengers  outlier\n",
      "0    1949    January         112        1\n",
      "1    1949   February         118        1\n",
      "2    1949      March         132        1\n",
      "3    1949      April         129        1\n",
      "4    1949        May         121        1\n",
      "..    ...        ...         ...      ...\n",
      "139  1960     August         606        1\n",
      "140  1960  September         508        1\n",
      "141  1960    October         461        1\n",
      "142  1960   November         390        0\n",
      "143  1960   December         432        1\n",
      "\n",
      "[144 rows x 4 columns]\n"
     ]
    }
   ],
   "source": [
    "import pandas as pd\n",
    "\n",
    "df = pd.read_csv('flights.csv')\n",
    "media = df['passengers'].mean()\n",
    "desvstd = df['passengers'].std()\n",
    "df['outlier']= 0\n",
    "\n",
    "for i, row in df.iterrows():\n",
    "    if row.passengers < (media - desvstd) or row.passengers > (media + desvstd):\n",
    "        df.at[i,'outlier'] = 1\n",
    "\n",
    "print(f'La media es: {media}')\n",
    "print(f'La desv_stdr es: {desvstd}')\n",
    "print(df)\n"
   ]
  },
  {
   "cell_type": "code",
   "execution_count": 7,
   "metadata": {},
   "outputs": [
    {
     "data": {
      "text/plain": [
       "<AxesSubplot:title={'center':'Gráfica resultante identificando valores \"outlier\"'}, xlabel='year', ylabel='passengers'>"
      ]
     },
     "execution_count": 7,
     "metadata": {},
     "output_type": "execute_result"
    },
    {
     "data": {
      "image/png": "[encoded data removed]",
      "text/plain": [
       "<Figure size 720x504 with 2 Axes>"
      ]
     },
     "metadata": {
      "needs_background": "light"
     },
     "output_type": "display_data"
    }
   ],
   "source": [
    "df.plot.scatter(x='year', y='passengers', c='outlier',cmap='coolwarm',figsize=(10,7),\n",
    "    title=('Gráfica resultante identificando valores \"outlier\"'))"
   ]
  },
  {
   "cell_type": "markdown",
   "metadata": {},
   "source": [
    " ### ¿Cuántas observaciones se pueden clasificar como casos extremos?\n",
    " Hipotesis: Contar filas resultantes al filtrar por columna outlier "
   ]
  },
  {
   "cell_type": "code",
   "execution_count": 8,
   "metadata": {},
   "outputs": [
    {
     "name": "stdout",
     "output_type": "stream",
     "text": [
      "Se cuentan 53 observaciones catalogadas como 'outlier'\n"
     ]
    }
   ],
   "source": [
    "\n",
    "df2=(df[df['outlier']==1]).reset_index()\n",
    "print (f\"Se cuentan {len(df2.axes[0])} observaciones catalogadas como 'outlier'\")            "
   ]
  }
 ],
 "metadata": {
  "interpreter": {
   "hash": "11938c6bc6919ae2720b4d5011047913343b08a43b18698fd82dedb0d4417594"
  },
  "kernelspec": {
   "display_name": "Python 3.9.5 64-bit",
   "language": "python",
   "name": "python3"
  },
  "language_info": {
   "codemirror_mode": {
    "name": "ipython",
    "version": 3
   },
   "file_extension": ".py",
   "mimetype": "text/x-python",
   "name": "python",
   "nbconvert_exporter": "python",
   "pygments_lexer": "ipython3",
   "version": "3.9.5"
  },
  "orig_nbformat": 4
 },
 "nbformat": 4,
 "nbformat_minor": 2
}
